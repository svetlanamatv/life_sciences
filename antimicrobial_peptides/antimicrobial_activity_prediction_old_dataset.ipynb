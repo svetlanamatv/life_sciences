{
 "cells": [
  {
   "cell_type": "markdown",
   "id": "89daa323-f26c-4d66-bade-9613d633c6f4",
   "metadata": {},
   "source": [
    "This Jupyter notebook demonstrates techniques for predicting the antimicrobial activity of peptides.\\\n",
    "\\\n",
    "The data used in this analysis is sourced from [data source](https://cbbio.online/AxPEP/?action=dataset), and preprocessing was\n",
    "conducted using CD-HIT to eliminate redundant sequences.\\\n",
    "Command to run CD-HIT: cd-hit -i data/test_ne.fasta -o data/test.txt -c 0.99\n",
    "\n",
    "1. Load and Preprocess Data\n",
    "2. Visualizations\n",
    "3. Calculate Features \n",
    "    - Amino Acid Composition\n",
    "4. Aplly ML\n",
    "    - Dataset Preparation\n",
    "    - Try Different ML Algorithms for Antimicrobial Activity Prediction\n",
    "    - Random Forest"
   ]
  },
  {
   "cell_type": "code",
   "execution_count": 1,
   "id": "82d1aadd-408d-4598-8e34-5d308453cadc",
   "metadata": {},
   "outputs": [],
   "source": [
    "import subprocess\n",
    "from typing import Optional, List\n",
    "\n",
    "import pandas as pd\n",
    "import numpy as np\n",
    "from scipy.stats import norm\n",
    "\n",
    "from sklearn.ensemble import RandomForestClassifier\n",
    "from sklearn.feature_selection import VarianceThreshold\n",
    "from sklearn.model_selection import train_test_split\n",
    "from sklearn.metrics import confusion_matrix, classification_report, \\\n",
    "    matthews_corrcoef, plot_roc_curve, \\\n",
    "    confusion_matrix, ConfusionMatrixDisplay\n",
    "\n",
    "from lazypredict.Supervised import LazyClassifier\n",
    "\n",
    "import matplotlib.pyplot as plt\n",
    "import seaborn as sns"
   ]
  },
  {
   "cell_type": "code",
   "execution_count": 2,
   "id": "d6b8829f-def5-4c65-877d-f7ce5e0c4557",
   "metadata": {},
   "outputs": [],
   "source": [
    "AMINO_ACIDS_LETTERS = \"ACDEFGHIKLMNPQRSTVWY\"\n",
    "AAC_FEATURES = [\"AAC_\" + letter for letter in AMINO_ACIDS_LETTERS]"
   ]
  },
  {
   "cell_type": "markdown",
   "id": "91153c79-0d66-421e-9702-699db914e74a",
   "metadata": {},
   "source": [
    "### **1. Load and Preprocess Data**"
   ]
  },
  {
   "cell_type": "code",
   "execution_count": 3,
   "id": "c2cd2ac3-8953-4bce-a35a-9aeaeecd3d78",
   "metadata": {},
   "outputs": [],
   "source": [
    "train_po_file = \"./data/train_po_cdhit.fasta\"\n",
    "train_ne_file = \"./data/train_ne_cdhit.fasta\"\n",
    "\n",
    "test_po_file = \"./data/test_po.fasta\"\n",
    "test_ne_file = \"./data/test_ne.fasta\""
   ]
  },
  {
   "cell_type": "code",
   "execution_count": 4,
   "id": "acbf6c86-52cc-4a19-8b8a-6269fc0cf7bd",
   "metadata": {},
   "outputs": [
    {
     "name": "stdout",
     "output_type": "stream",
     "text": [
      "(2674, 1)\n"
     ]
    },
    {
     "data": {
      "text/html": [
       "<div>\n",
       "<style scoped>\n",
       "    .dataframe tbody tr th:only-of-type {\n",
       "        vertical-align: middle;\n",
       "    }\n",
       "\n",
       "    .dataframe tbody tr th {\n",
       "        vertical-align: top;\n",
       "    }\n",
       "\n",
       "    .dataframe thead th {\n",
       "        text-align: right;\n",
       "    }\n",
       "</style>\n",
       "<table border=\"1\" class=\"dataframe\">\n",
       "  <thead>\n",
       "    <tr style=\"text-align: right;\">\n",
       "      <th></th>\n",
       "      <th>0</th>\n",
       "    </tr>\n",
       "  </thead>\n",
       "  <tbody>\n",
       "    <tr>\n",
       "      <th>0</th>\n",
       "      <td>&gt;amp5_30_85</td>\n",
       "    </tr>\n",
       "    <tr>\n",
       "      <th>1</th>\n",
       "      <td>AVPDVAFNAYG</td>\n",
       "    </tr>\n",
       "    <tr>\n",
       "      <th>2</th>\n",
       "      <td>&gt;amp5_30_86</td>\n",
       "    </tr>\n",
       "    <tr>\n",
       "      <th>3</th>\n",
       "      <td>CTTCECCCSCS</td>\n",
       "    </tr>\n",
       "    <tr>\n",
       "      <th>4</th>\n",
       "      <td>&gt;amp5_30_87</td>\n",
       "    </tr>\n",
       "  </tbody>\n",
       "</table>\n",
       "</div>"
      ],
      "text/plain": [
       "             0\n",
       "0  >amp5_30_85\n",
       "1  AVPDVAFNAYG\n",
       "2  >amp5_30_86\n",
       "3  CTTCECCCSCS\n",
       "4  >amp5_30_87"
      ]
     },
     "execution_count": 4,
     "metadata": {},
     "output_type": "execute_result"
    }
   ],
   "source": [
    "# take a look at the data\n",
    "df = pd.read_csv(train_po_file, header=None)\n",
    "print(df.shape)\n",
    "df.head()"
   ]
  },
  {
   "cell_type": "code",
   "execution_count": 5,
   "id": "06c41859-53fb-4a7b-95d4-433e4437b298",
   "metadata": {},
   "outputs": [],
   "source": [
    "def load_data(file_name: str) -> pd.DataFrame:\n",
    "    df = pd.read_csv(file_name, header=None)\n",
    "    \n",
    "    # skip lines like \">amp5_30_85\"\n",
    "    # take only peptides\n",
    "    df = df.iloc[1::2]\n",
    "    df = df.reset_index(drop=True)\n",
    "    \n",
    "    return df"
   ]
  },
  {
   "cell_type": "code",
   "execution_count": 6,
   "id": "3b7a2ce9-da0d-44cb-a425-4a6874de783f",
   "metadata": {},
   "outputs": [],
   "source": [
    "df_train_po = load_data(train_po_file)\n",
    "df_train_ne = load_data(train_ne_file)\n",
    "\n",
    "df_test_po = load_data(test_po_file)\n",
    "df_test_ne = load_data(test_ne_file)"
   ]
  },
  {
   "cell_type": "code",
   "execution_count": 7,
   "id": "f11928d0-0cad-41df-8834-d16a9594d1e1",
   "metadata": {},
   "outputs": [
    {
     "name": "stdout",
     "output_type": "stream",
     "text": [
      "(1337, 1) (1422, 1) (94, 1) (94, 1)\n"
     ]
    }
   ],
   "source": [
    "print(df_train_po.shape, df_train_ne.shape,\n",
    "      df_test_po.shape, df_test_ne.shape)"
   ]
  },
  {
   "cell_type": "code",
   "execution_count": 8,
   "id": "72b5d521-cf8a-43a5-b078-9d6e08dd9288",
   "metadata": {},
   "outputs": [
    {
     "data": {
      "text/html": [
       "<div>\n",
       "<style scoped>\n",
       "    .dataframe tbody tr th:only-of-type {\n",
       "        vertical-align: middle;\n",
       "    }\n",
       "\n",
       "    .dataframe tbody tr th {\n",
       "        vertical-align: top;\n",
       "    }\n",
       "\n",
       "    .dataframe thead th {\n",
       "        text-align: right;\n",
       "    }\n",
       "</style>\n",
       "<table border=\"1\" class=\"dataframe\">\n",
       "  <thead>\n",
       "    <tr style=\"text-align: right;\">\n",
       "      <th></th>\n",
       "      <th>0</th>\n",
       "    </tr>\n",
       "  </thead>\n",
       "  <tbody>\n",
       "    <tr>\n",
       "      <th>0</th>\n",
       "      <td>AVPDVAFNAYG</td>\n",
       "    </tr>\n",
       "    <tr>\n",
       "      <th>1</th>\n",
       "      <td>CTTCECCCSCS</td>\n",
       "    </tr>\n",
       "    <tr>\n",
       "      <th>2</th>\n",
       "      <td>EPHPDEFVGLM</td>\n",
       "    </tr>\n",
       "    <tr>\n",
       "      <th>3</th>\n",
       "      <td>EPHPNEFVGLM</td>\n",
       "    </tr>\n",
       "    <tr>\n",
       "      <th>4</th>\n",
       "      <td>EPNPDEFFGLM</td>\n",
       "    </tr>\n",
       "  </tbody>\n",
       "</table>\n",
       "</div>"
      ],
      "text/plain": [
       "             0\n",
       "0  AVPDVAFNAYG\n",
       "1  CTTCECCCSCS\n",
       "2  EPHPDEFVGLM\n",
       "3  EPHPNEFVGLM\n",
       "4  EPNPDEFFGLM"
      ]
     },
     "execution_count": 8,
     "metadata": {},
     "output_type": "execute_result"
    }
   ],
   "source": [
    "df_train_po.head()"
   ]
  },
  {
   "cell_type": "markdown",
   "id": "07f7acce-1155-4e84-b9f7-c2646ca572c7",
   "metadata": {},
   "source": [
    "#### Create Unified Dataset with Labels"
   ]
  },
  {
   "cell_type": "code",
   "execution_count": 9,
   "id": "eeec9a9f-0ac5-4bb4-9ffc-1f23a46deaeb",
   "metadata": {},
   "outputs": [
    {
     "name": "stdout",
     "output_type": "stream",
     "text": [
      "2947\n"
     ]
    }
   ],
   "source": [
    "labels = [1] * len(df_train_po) + [0] * len(df_train_ne) + \\\n",
    "            [1] * len(df_test_po) + [0] * len(df_test_ne)\n",
    "\n",
    "print(len(labels))"
   ]
  },
  {
   "cell_type": "code",
   "execution_count": 10,
   "id": "fc72071a-0acf-4cb0-9047-2671a8a519f4",
   "metadata": {},
   "outputs": [
    {
     "data": {
      "text/plain": [
       "(2947, 2)"
      ]
     },
     "execution_count": 10,
     "metadata": {},
     "output_type": "execute_result"
    }
   ],
   "source": [
    "df = pd.concat([df_train_po, df_train_ne, df_test_po, df_test_ne], \n",
    "               ignore_index=True, axis=0)\n",
    "df = df.rename(columns={0: \"Peptide\"})\n",
    "df[\"Active\"] = labels\n",
    "df.shape"
   ]
  },
  {
   "cell_type": "code",
   "execution_count": 11,
   "id": "5d95af05-def9-4edf-aee3-6ac63b3cfebf",
   "metadata": {},
   "outputs": [
    {
     "data": {
      "text/html": [
       "<div>\n",
       "<style scoped>\n",
       "    .dataframe tbody tr th:only-of-type {\n",
       "        vertical-align: middle;\n",
       "    }\n",
       "\n",
       "    .dataframe tbody tr th {\n",
       "        vertical-align: top;\n",
       "    }\n",
       "\n",
       "    .dataframe thead th {\n",
       "        text-align: right;\n",
       "    }\n",
       "</style>\n",
       "<table border=\"1\" class=\"dataframe\">\n",
       "  <thead>\n",
       "    <tr style=\"text-align: right;\">\n",
       "      <th></th>\n",
       "      <th>Peptide</th>\n",
       "      <th>Active</th>\n",
       "    </tr>\n",
       "  </thead>\n",
       "  <tbody>\n",
       "    <tr>\n",
       "      <th>0</th>\n",
       "      <td>AVPDVAFNAYG</td>\n",
       "      <td>1</td>\n",
       "    </tr>\n",
       "    <tr>\n",
       "      <th>1</th>\n",
       "      <td>CTTCECCCSCS</td>\n",
       "      <td>1</td>\n",
       "    </tr>\n",
       "    <tr>\n",
       "      <th>2</th>\n",
       "      <td>EPHPDEFVGLM</td>\n",
       "      <td>1</td>\n",
       "    </tr>\n",
       "    <tr>\n",
       "      <th>3</th>\n",
       "      <td>EPHPNEFVGLM</td>\n",
       "      <td>1</td>\n",
       "    </tr>\n",
       "    <tr>\n",
       "      <th>4</th>\n",
       "      <td>EPNPDEFFGLM</td>\n",
       "      <td>1</td>\n",
       "    </tr>\n",
       "  </tbody>\n",
       "</table>\n",
       "</div>"
      ],
      "text/plain": [
       "       Peptide  Active\n",
       "0  AVPDVAFNAYG       1\n",
       "1  CTTCECCCSCS       1\n",
       "2  EPHPDEFVGLM       1\n",
       "3  EPHPNEFVGLM       1\n",
       "4  EPNPDEFFGLM       1"
      ]
     },
     "execution_count": 11,
     "metadata": {},
     "output_type": "execute_result"
    }
   ],
   "source": [
    "df.head()"
   ]
  },
  {
   "cell_type": "markdown",
   "id": "fbf7d71f-f491-43e8-be25-41c850d9b4cd",
   "metadata": {},
   "source": [
    "### **2. Visualizations**"
   ]
  },
  {
   "cell_type": "code",
   "execution_count": 12,
   "id": "5e51b071-f045-4515-a46d-1e72ed656f35",
   "metadata": {},
   "outputs": [],
   "source": [
    "def histogram_plot(df: pd.DataFrame, x_axis: str, x_label: str):\n",
    "    plt.figure(figsize=(5, 5))\n",
    "\n",
    "    data = df[x_axis].tolist()\n",
    "    mu, sigma = norm.fit(data)\n",
    "\n",
    "    n, bins, patches = plt.hist(data, bins=50,  density=True, alpha=0.9)\n",
    "\n",
    "    y = norm.pdf(bins, mu, sigma)\n",
    "    l = plt.plot(bins, y, \"k--\", linewidth=2)\n",
    "\n",
    "    plt.title(r\"$\\mu=%.3f,\\ \\sigma=%.3f$\" %(mu, sigma))\n",
    "    plt.xlabel(x_label, fontsize=10, fontweight=\"bold\")\n",
    "    plt.ylabel(\"Number of Peptides\", fontsize=10, fontweight=\"bold\")\n",
    "    plt.grid(True)\n",
    "    plt.show()"
   ]
  },
  {
   "cell_type": "code",
   "execution_count": 13,
   "id": "af052038-7def-498e-85fc-62c1d231e5be",
   "metadata": {},
   "outputs": [
    {
     "data": {
      "image/png": "[encoded data removed]",
      "text/plain": [
       "<Figure size 500x500 with 1 Axes>"
      ]
     },
     "metadata": {},
     "output_type": "display_data"
    }
   ],
   "source": [
    "plt.figure(figsize=(5, 5))\n",
    "\n",
    "sns.countplot(x=\"labels\", data=pd.DataFrame(data=labels, columns=[\"labels\"]), edgecolor=\"black\")\n",
    "\n",
    "plt.xlabel(\"Activity Class\", fontsize=10, fontweight=\"bold\")\n",
    "plt.ylabel(\"Frequency\", fontsize=10, fontweight=\"bold\")\n",
    "plt.show()"
   ]
  },
  {
   "cell_type": "code",
   "execution_count": 14,
   "id": "f37a5cff-aa11-4a9f-9357-4ed43a715f1f",
   "metadata": {},
   "outputs": [
    {
     "name": "stdout",
     "output_type": "stream",
     "text": [
      "2947\n"
     ]
    }
   ],
   "source": [
    "peptide_lengths = []\n",
    "\n",
    "for peptide in df[\"Peptide\"]:\n",
    "    peptide_lengths.append(len(peptide))\n",
    "    \n",
    "print(len(peptide_lengths))"
   ]
  },
  {
   "cell_type": "code",
   "execution_count": 15,
   "id": "db61db30-c01b-4dd1-ba47-19792dd4d5ed",
   "metadata": {},
   "outputs": [],
   "source": [
    "df_len = pd.DataFrame(data=peptide_lengths, columns=[\"peptide_lengths\"])"
   ]
  },
  {
   "cell_type": "code",
   "execution_count": 16,
   "id": "9bc135c4-c568-4fa2-8e98-29c36d5b7418",
   "metadata": {},
   "outputs": [
    {
     "data": {
      "image/png": "[encoded data removed]",
      "text/plain": [
       "<Figure size 500x500 with 1 Axes>"
      ]
     },
     "metadata": {},
     "output_type": "display_data"
    }
   ],
   "source": [
    "histogram_plot(df_len, x_axis=\"peptide_lengths\", \n",
    "               x_label=\"Peptide Lengths\")"
   ]
  },
  {
   "cell_type": "markdown",
   "id": "4d2d6ff8-ca68-4e7b-b73d-dca38bd415b6",
   "metadata": {},
   "source": [
    "### **3. Calculate Features**"
   ]
  },
  {
   "cell_type": "markdown",
   "id": "a90d3107-b2b5-4730-9e79-9089a5ce8f7a",
   "metadata": {},
   "source": [
    "#### **Amino Acid Composition**\n",
    "The amino acid composition of a peptide refers to the relative abundance or percentage of each amino acid in the peptide sequence.\\\n",
    "Let $N_i$ be the number of occurrences of the $i_{th}$ amino acid in the peptide sequence.\\\n",
    "The percentage ($P_i$) of each amino acid is calculated as:\n",
    "\n",
    "$$P_i = \\frac{N_i}{len(peptide)} * 100$$"
   ]
  },
  {
   "cell_type": "code",
   "execution_count": 17,
   "id": "0d91bdf2-951c-42a0-8ad6-7cf8eedecc9a",
   "metadata": {},
   "outputs": [],
   "source": [
    "def calculate_amino_acid_composition(peptides: List) -> np.array:\n",
    "    res = np.zeros(shape=[len(peptides), len(AMINO_ACIDS_LETTERS)])\n",
    "    \n",
    "    for i, peptide in enumerate(peptides):\n",
    "        occs = [0] * len(AMINO_ACIDS_LETTERS)\n",
    "        idcs = {AMINO_ACIDS_LETTERS[i]: i for i in range(len(AMINO_ACIDS_LETTERS))}\n",
    "\n",
    "        for ac in peptide:\n",
    "            occs[idcs[ac]] += 1\n",
    "\n",
    "        occs = np.array(occs) / len(peptide) * 100\n",
    "        res[i] = occs\n",
    "        \n",
    "    return res"
   ]
  },
  {
   "cell_type": "code",
   "execution_count": 18,
   "id": "c1c04084-7e31-416d-8ca8-215ad0cb756d",
   "metadata": {},
   "outputs": [
    {
     "name": "stdout",
     "output_type": "stream",
     "text": [
      "(2947, 20)\n"
     ]
    }
   ],
   "source": [
    "acc_features = calculate_amino_acid_composition(df[\"Peptide\"].to_numpy().flatten())\n",
    "print(acc_features.shape)"
   ]
  },
  {
   "cell_type": "code",
   "execution_count": 19,
   "id": "3780799c-a946-489b-a373-703ea63f2aa3",
   "metadata": {},
   "outputs": [
    {
     "name": "stdout",
     "output_type": "stream",
     "text": [
      "[27.27272727  0.          9.09090909  0.          9.09090909  9.09090909\n",
      "  0.          0.          0.          0.          0.          9.09090909\n",
      "  9.09090909  0.          0.          0.          0.         18.18181818\n",
      "  0.          9.09090909]\n"
     ]
    }
   ],
   "source": [
    "print(acc_features[0])"
   ]
  },
  {
   "cell_type": "code",
   "execution_count": 20,
   "id": "2a16c882-2906-4212-82f2-3bef8182c41f",
   "metadata": {},
   "outputs": [
    {
     "data": {
      "text/plain": [
       "(2947, 20)"
      ]
     },
     "execution_count": 20,
     "metadata": {},
     "output_type": "execute_result"
    }
   ],
   "source": [
    "acc_df = pd.DataFrame(acc_features, columns=AAC_FEATURES)\n",
    "acc_df.shape"
   ]
  },
  {
   "cell_type": "code",
   "execution_count": 21,
   "id": "b40075ed-e8ae-4b03-8d03-74e036f2f999",
   "metadata": {},
   "outputs": [
    {
     "data": {
      "text/html": [
       "<div>\n",
       "<style scoped>\n",
       "    .dataframe tbody tr th:only-of-type {\n",
       "        vertical-align: middle;\n",
       "    }\n",
       "\n",
       "    .dataframe tbody tr th {\n",
       "        vertical-align: top;\n",
       "    }\n",
       "\n",
       "    .dataframe thead th {\n",
       "        text-align: right;\n",
       "    }\n",
       "</style>\n",
       "<table border=\"1\" class=\"dataframe\">\n",
       "  <thead>\n",
       "    <tr style=\"text-align: right;\">\n",
       "      <th></th>\n",
       "      <th>AAC_A</th>\n",
       "      <th>AAC_C</th>\n",
       "      <th>AAC_D</th>\n",
       "      <th>AAC_E</th>\n",
       "      <th>AAC_F</th>\n",
       "      <th>AAC_G</th>\n",
       "      <th>AAC_H</th>\n",
       "      <th>AAC_I</th>\n",
       "      <th>AAC_K</th>\n",
       "      <th>AAC_L</th>\n",
       "      <th>AAC_M</th>\n",
       "      <th>AAC_N</th>\n",
       "      <th>AAC_P</th>\n",
       "      <th>AAC_Q</th>\n",
       "      <th>AAC_R</th>\n",
       "      <th>AAC_S</th>\n",
       "      <th>AAC_T</th>\n",
       "      <th>AAC_V</th>\n",
       "      <th>AAC_W</th>\n",
       "      <th>AAC_Y</th>\n",
       "    </tr>\n",
       "  </thead>\n",
       "  <tbody>\n",
       "    <tr>\n",
       "      <th>0</th>\n",
       "      <td>27.27</td>\n",
       "      <td>0.00</td>\n",
       "      <td>9.09</td>\n",
       "      <td>0.00</td>\n",
       "      <td>9.09</td>\n",
       "      <td>9.09</td>\n",
       "      <td>0.00</td>\n",
       "      <td>0.00</td>\n",
       "      <td>0.00</td>\n",
       "      <td>0.00</td>\n",
       "      <td>0.00</td>\n",
       "      <td>9.09</td>\n",
       "      <td>9.09</td>\n",
       "      <td>0.00</td>\n",
       "      <td>0.00</td>\n",
       "      <td>0.00</td>\n",
       "      <td>0.00</td>\n",
       "      <td>18.18</td>\n",
       "      <td>0.00</td>\n",
       "      <td>9.09</td>\n",
       "    </tr>\n",
       "    <tr>\n",
       "      <th>1</th>\n",
       "      <td>0.00</td>\n",
       "      <td>54.55</td>\n",
       "      <td>0.00</td>\n",
       "      <td>9.09</td>\n",
       "      <td>0.00</td>\n",
       "      <td>0.00</td>\n",
       "      <td>0.00</td>\n",
       "      <td>0.00</td>\n",
       "      <td>0.00</td>\n",
       "      <td>0.00</td>\n",
       "      <td>0.00</td>\n",
       "      <td>0.00</td>\n",
       "      <td>0.00</td>\n",
       "      <td>0.00</td>\n",
       "      <td>0.00</td>\n",
       "      <td>18.18</td>\n",
       "      <td>18.18</td>\n",
       "      <td>0.00</td>\n",
       "      <td>0.00</td>\n",
       "      <td>0.00</td>\n",
       "    </tr>\n",
       "    <tr>\n",
       "      <th>2</th>\n",
       "      <td>0.00</td>\n",
       "      <td>0.00</td>\n",
       "      <td>9.09</td>\n",
       "      <td>18.18</td>\n",
       "      <td>9.09</td>\n",
       "      <td>9.09</td>\n",
       "      <td>9.09</td>\n",
       "      <td>0.00</td>\n",
       "      <td>0.00</td>\n",
       "      <td>9.09</td>\n",
       "      <td>9.09</td>\n",
       "      <td>0.00</td>\n",
       "      <td>18.18</td>\n",
       "      <td>0.00</td>\n",
       "      <td>0.00</td>\n",
       "      <td>0.00</td>\n",
       "      <td>0.00</td>\n",
       "      <td>9.09</td>\n",
       "      <td>0.00</td>\n",
       "      <td>0.00</td>\n",
       "    </tr>\n",
       "    <tr>\n",
       "      <th>3</th>\n",
       "      <td>0.00</td>\n",
       "      <td>0.00</td>\n",
       "      <td>0.00</td>\n",
       "      <td>18.18</td>\n",
       "      <td>9.09</td>\n",
       "      <td>9.09</td>\n",
       "      <td>9.09</td>\n",
       "      <td>0.00</td>\n",
       "      <td>0.00</td>\n",
       "      <td>9.09</td>\n",
       "      <td>9.09</td>\n",
       "      <td>9.09</td>\n",
       "      <td>18.18</td>\n",
       "      <td>0.00</td>\n",
       "      <td>0.00</td>\n",
       "      <td>0.00</td>\n",
       "      <td>0.00</td>\n",
       "      <td>9.09</td>\n",
       "      <td>0.00</td>\n",
       "      <td>0.00</td>\n",
       "    </tr>\n",
       "    <tr>\n",
       "      <th>4</th>\n",
       "      <td>0.00</td>\n",
       "      <td>0.00</td>\n",
       "      <td>9.09</td>\n",
       "      <td>18.18</td>\n",
       "      <td>18.18</td>\n",
       "      <td>9.09</td>\n",
       "      <td>0.00</td>\n",
       "      <td>0.00</td>\n",
       "      <td>0.00</td>\n",
       "      <td>9.09</td>\n",
       "      <td>9.09</td>\n",
       "      <td>9.09</td>\n",
       "      <td>18.18</td>\n",
       "      <td>0.00</td>\n",
       "      <td>0.00</td>\n",
       "      <td>0.00</td>\n",
       "      <td>0.00</td>\n",
       "      <td>0.00</td>\n",
       "      <td>0.00</td>\n",
       "      <td>0.00</td>\n",
       "    </tr>\n",
       "  </tbody>\n",
       "</table>\n",
       "</div>"
      ],
      "text/plain": [
       "   AAC_A  AAC_C  AAC_D  AAC_E  AAC_F  AAC_G  AAC_H  AAC_I  AAC_K  AAC_L  \\\n",
       "0  27.27   0.00   9.09   0.00   9.09   9.09   0.00   0.00   0.00   0.00   \n",
       "1   0.00  54.55   0.00   9.09   0.00   0.00   0.00   0.00   0.00   0.00   \n",
       "2   0.00   0.00   9.09  18.18   9.09   9.09   9.09   0.00   0.00   9.09   \n",
       "3   0.00   0.00   0.00  18.18   9.09   9.09   9.09   0.00   0.00   9.09   \n",
       "4   0.00   0.00   9.09  18.18  18.18   9.09   0.00   0.00   0.00   9.09   \n",
       "\n",
       "   AAC_M  AAC_N  AAC_P  AAC_Q  AAC_R  AAC_S  AAC_T  AAC_V  AAC_W  AAC_Y  \n",
       "0   0.00   9.09   9.09   0.00   0.00   0.00   0.00  18.18   0.00   9.09  \n",
       "1   0.00   0.00   0.00   0.00   0.00  18.18  18.18   0.00   0.00   0.00  \n",
       "2   9.09   0.00  18.18   0.00   0.00   0.00   0.00   9.09   0.00   0.00  \n",
       "3   9.09   9.09  18.18   0.00   0.00   0.00   0.00   9.09   0.00   0.00  \n",
       "4   9.09   9.09  18.18   0.00   0.00   0.00   0.00   0.00   0.00   0.00  "
      ]
     },
     "execution_count": 21,
     "metadata": {},
     "output_type": "execute_result"
    }
   ],
   "source": [
    "acc_df.head()"
   ]
  },
  {
   "cell_type": "markdown",
   "id": "57d0768d-4e7f-4de0-9195-d47aeae3147d",
   "metadata": {},
   "source": [
    "### **4. Apply ML**"
   ]
  },
  {
   "cell_type": "markdown",
   "id": "79aee810-2bc1-441d-ba9d-51dc95087f10",
   "metadata": {},
   "source": [
    "#### **4.1 Dataset Preparation**"
   ]
  },
  {
   "cell_type": "code",
   "execution_count": 22,
   "id": "8c0795ad-935d-49c1-a5c0-7f0c25aa5dea",
   "metadata": {},
   "outputs": [
    {
     "name": "stdout",
     "output_type": "stream",
     "text": [
      "(2947, 20) (2947,)\n"
     ]
    }
   ],
   "source": [
    "X, y = acc_df, df[\"Active\"]\n",
    "print(X.shape, y.shape)"
   ]
  },
  {
   "cell_type": "code",
   "execution_count": 23,
   "id": "400db0c0-b2fc-4cb2-87a6-43214ddec9a9",
   "metadata": {},
   "outputs": [
    {
     "data": {
      "text/plain": [
       "(2947, 20)"
      ]
     },
     "execution_count": 23,
     "metadata": {},
     "output_type": "execute_result"
    }
   ],
   "source": [
    "# remove low variance features\n",
    "selection = VarianceThreshold(threshold=0.1)    \n",
    "X = selection.fit_transform(X)\n",
    "X.shape"
   ]
  },
  {
   "cell_type": "code",
   "execution_count": 24,
   "id": "09577f59-ca69-438d-a67f-37dd26ea13a5",
   "metadata": {},
   "outputs": [],
   "source": [
    "X_train, X_test, y_train, y_test = train_test_split(X, y, test_size=0.2, random_state=10, stratify=y)"
   ]
  },
  {
   "cell_type": "markdown",
   "id": "dbb9683c-2a65-4fe9-be5f-398085deb07e",
   "metadata": {},
   "source": [
    "#### **4.2 Try Different ML Algorithms for Antimicrobial Activity Prediction**"
   ]
  },
  {
   "cell_type": "code",
   "execution_count": 25,
   "id": "fe3ebd82-6936-45cc-9144-fc5a9b91317e",
   "metadata": {},
   "outputs": [
    {
     "name": "stderr",
     "output_type": "stream",
     "text": [
      "100%|█████████████████████████████████████████████████████████████████| 29/29 [00:06<00:00,  4.43it/s]"
     ]
    },
    {
     "name": "stdout",
     "output_type": "stream",
     "text": [
      "[LightGBM] [Info] Number of positive: 1145, number of negative: 1212\n",
      "[LightGBM] [Info] Auto-choosing row-wise multi-threading, the overhead of testing was 0.000331 seconds.\n",
      "You can set `force_row_wise=true` to remove the overhead.\n",
      "And if memory is not enough, you can set `force_col_wise=true`.\n",
      "[LightGBM] [Info] Total Bins 1223\n",
      "[LightGBM] [Info] Number of data points in the train set: 2357, number of used features: 20\n",
      "[LightGBM] [Info] [binary:BoostFromScore]: pavg=0.485787 -> initscore=-0.056867\n",
      "[LightGBM] [Info] Start training from score -0.056867\n"
     ]
    },
    {
     "name": "stderr",
     "output_type": "stream",
     "text": [
      "\n"
     ]
    }
   ],
   "source": [
    "clf = LazyClassifier(custom_metric=matthews_corrcoef)\n",
    "models_train, predictions_train = clf.fit(X_train, X_train, y_train, y_train)"
   ]
  },
  {
   "cell_type": "code",
   "execution_count": 26,
   "id": "01f05236-9343-4998-8af5-96deec8d8dba",
   "metadata": {},
   "outputs": [
    {
     "data": {
      "text/html": [
       "<div>\n",
       "<style scoped>\n",
       "    .dataframe tbody tr th:only-of-type {\n",
       "        vertical-align: middle;\n",
       "    }\n",
       "\n",
       "    .dataframe tbody tr th {\n",
       "        vertical-align: top;\n",
       "    }\n",
       "\n",
       "    .dataframe thead th {\n",
       "        text-align: right;\n",
       "    }\n",
       "</style>\n",
       "<table border=\"1\" class=\"dataframe\">\n",
       "  <thead>\n",
       "    <tr style=\"text-align: right;\">\n",
       "      <th></th>\n",
       "      <th>Accuracy</th>\n",
       "      <th>Balanced Accuracy</th>\n",
       "      <th>ROC AUC</th>\n",
       "      <th>F1 Score</th>\n",
       "      <th>matthews_corrcoef</th>\n",
       "      <th>Time Taken</th>\n",
       "    </tr>\n",
       "    <tr>\n",
       "      <th>Model</th>\n",
       "      <th></th>\n",
       "      <th></th>\n",
       "      <th></th>\n",
       "      <th></th>\n",
       "      <th></th>\n",
       "      <th></th>\n",
       "    </tr>\n",
       "  </thead>\n",
       "  <tbody>\n",
       "    <tr>\n",
       "      <th>RandomForestClassifier</th>\n",
       "      <td>0.93</td>\n",
       "      <td>0.93</td>\n",
       "      <td>0.93</td>\n",
       "      <td>0.93</td>\n",
       "      <td>0.86</td>\n",
       "      <td>0.56</td>\n",
       "    </tr>\n",
       "    <tr>\n",
       "      <th>LabelSpreading</th>\n",
       "      <td>0.93</td>\n",
       "      <td>0.93</td>\n",
       "      <td>0.93</td>\n",
       "      <td>0.93</td>\n",
       "      <td>0.86</td>\n",
       "      <td>0.73</td>\n",
       "    </tr>\n",
       "    <tr>\n",
       "      <th>LabelPropagation</th>\n",
       "      <td>0.93</td>\n",
       "      <td>0.93</td>\n",
       "      <td>0.93</td>\n",
       "      <td>0.93</td>\n",
       "      <td>0.86</td>\n",
       "      <td>0.59</td>\n",
       "    </tr>\n",
       "    <tr>\n",
       "      <th>DecisionTreeClassifier</th>\n",
       "      <td>0.93</td>\n",
       "      <td>0.93</td>\n",
       "      <td>0.93</td>\n",
       "      <td>0.93</td>\n",
       "      <td>0.87</td>\n",
       "      <td>0.08</td>\n",
       "    </tr>\n",
       "    <tr>\n",
       "      <th>ExtraTreeClassifier</th>\n",
       "      <td>0.93</td>\n",
       "      <td>0.93</td>\n",
       "      <td>0.93</td>\n",
       "      <td>0.93</td>\n",
       "      <td>0.87</td>\n",
       "      <td>0.02</td>\n",
       "    </tr>\n",
       "    <tr>\n",
       "      <th>ExtraTreesClassifier</th>\n",
       "      <td>0.93</td>\n",
       "      <td>0.93</td>\n",
       "      <td>0.93</td>\n",
       "      <td>0.93</td>\n",
       "      <td>0.87</td>\n",
       "      <td>0.38</td>\n",
       "    </tr>\n",
       "    <tr>\n",
       "      <th>XGBClassifier</th>\n",
       "      <td>0.93</td>\n",
       "      <td>0.93</td>\n",
       "      <td>0.93</td>\n",
       "      <td>0.93</td>\n",
       "      <td>0.86</td>\n",
       "      <td>0.14</td>\n",
       "    </tr>\n",
       "    <tr>\n",
       "      <th>BaggingClassifier</th>\n",
       "      <td>0.92</td>\n",
       "      <td>0.92</td>\n",
       "      <td>0.92</td>\n",
       "      <td>0.92</td>\n",
       "      <td>0.84</td>\n",
       "      <td>0.17</td>\n",
       "    </tr>\n",
       "    <tr>\n",
       "      <th>LGBMClassifier</th>\n",
       "      <td>0.92</td>\n",
       "      <td>0.92</td>\n",
       "      <td>0.92</td>\n",
       "      <td>0.92</td>\n",
       "      <td>0.83</td>\n",
       "      <td>0.17</td>\n",
       "    </tr>\n",
       "    <tr>\n",
       "      <th>NuSVC</th>\n",
       "      <td>0.86</td>\n",
       "      <td>0.86</td>\n",
       "      <td>0.86</td>\n",
       "      <td>0.86</td>\n",
       "      <td>0.73</td>\n",
       "      <td>0.59</td>\n",
       "    </tr>\n",
       "    <tr>\n",
       "      <th>SVC</th>\n",
       "      <td>0.82</td>\n",
       "      <td>0.82</td>\n",
       "      <td>0.82</td>\n",
       "      <td>0.82</td>\n",
       "      <td>0.65</td>\n",
       "      <td>0.52</td>\n",
       "    </tr>\n",
       "    <tr>\n",
       "      <th>KNeighborsClassifier</th>\n",
       "      <td>0.82</td>\n",
       "      <td>0.82</td>\n",
       "      <td>0.82</td>\n",
       "      <td>0.82</td>\n",
       "      <td>0.63</td>\n",
       "      <td>0.26</td>\n",
       "    </tr>\n",
       "    <tr>\n",
       "      <th>AdaBoostClassifier</th>\n",
       "      <td>0.75</td>\n",
       "      <td>0.75</td>\n",
       "      <td>0.75</td>\n",
       "      <td>0.75</td>\n",
       "      <td>0.51</td>\n",
       "      <td>0.32</td>\n",
       "    </tr>\n",
       "    <tr>\n",
       "      <th>LogisticRegression</th>\n",
       "      <td>0.73</td>\n",
       "      <td>0.73</td>\n",
       "      <td>0.73</td>\n",
       "      <td>0.73</td>\n",
       "      <td>0.46</td>\n",
       "      <td>0.04</td>\n",
       "    </tr>\n",
       "    <tr>\n",
       "      <th>LinearSVC</th>\n",
       "      <td>0.73</td>\n",
       "      <td>0.73</td>\n",
       "      <td>0.73</td>\n",
       "      <td>0.73</td>\n",
       "      <td>0.46</td>\n",
       "      <td>0.29</td>\n",
       "    </tr>\n",
       "    <tr>\n",
       "      <th>LinearDiscriminantAnalysis</th>\n",
       "      <td>0.73</td>\n",
       "      <td>0.73</td>\n",
       "      <td>0.73</td>\n",
       "      <td>0.73</td>\n",
       "      <td>0.46</td>\n",
       "      <td>0.07</td>\n",
       "    </tr>\n",
       "    <tr>\n",
       "      <th>RidgeClassifier</th>\n",
       "      <td>0.73</td>\n",
       "      <td>0.73</td>\n",
       "      <td>0.73</td>\n",
       "      <td>0.73</td>\n",
       "      <td>0.46</td>\n",
       "      <td>0.02</td>\n",
       "    </tr>\n",
       "    <tr>\n",
       "      <th>RidgeClassifierCV</th>\n",
       "      <td>0.73</td>\n",
       "      <td>0.73</td>\n",
       "      <td>0.73</td>\n",
       "      <td>0.73</td>\n",
       "      <td>0.46</td>\n",
       "      <td>0.05</td>\n",
       "    </tr>\n",
       "    <tr>\n",
       "      <th>NearestCentroid</th>\n",
       "      <td>0.73</td>\n",
       "      <td>0.73</td>\n",
       "      <td>0.73</td>\n",
       "      <td>0.73</td>\n",
       "      <td>0.46</td>\n",
       "      <td>0.03</td>\n",
       "    </tr>\n",
       "    <tr>\n",
       "      <th>SGDClassifier</th>\n",
       "      <td>0.73</td>\n",
       "      <td>0.73</td>\n",
       "      <td>0.73</td>\n",
       "      <td>0.73</td>\n",
       "      <td>0.46</td>\n",
       "      <td>0.11</td>\n",
       "    </tr>\n",
       "    <tr>\n",
       "      <th>CalibratedClassifierCV</th>\n",
       "      <td>0.73</td>\n",
       "      <td>0.73</td>\n",
       "      <td>0.73</td>\n",
       "      <td>0.73</td>\n",
       "      <td>0.45</td>\n",
       "      <td>1.14</td>\n",
       "    </tr>\n",
       "    <tr>\n",
       "      <th>QuadraticDiscriminantAnalysis</th>\n",
       "      <td>0.72</td>\n",
       "      <td>0.72</td>\n",
       "      <td>0.72</td>\n",
       "      <td>0.72</td>\n",
       "      <td>0.44</td>\n",
       "      <td>0.03</td>\n",
       "    </tr>\n",
       "    <tr>\n",
       "      <th>GaussianNB</th>\n",
       "      <td>0.71</td>\n",
       "      <td>0.71</td>\n",
       "      <td>0.71</td>\n",
       "      <td>0.70</td>\n",
       "      <td>0.42</td>\n",
       "      <td>0.02</td>\n",
       "    </tr>\n",
       "    <tr>\n",
       "      <th>BernoulliNB</th>\n",
       "      <td>0.71</td>\n",
       "      <td>0.71</td>\n",
       "      <td>0.71</td>\n",
       "      <td>0.71</td>\n",
       "      <td>0.41</td>\n",
       "      <td>0.02</td>\n",
       "    </tr>\n",
       "    <tr>\n",
       "      <th>Perceptron</th>\n",
       "      <td>0.63</td>\n",
       "      <td>0.63</td>\n",
       "      <td>0.63</td>\n",
       "      <td>0.63</td>\n",
       "      <td>0.25</td>\n",
       "      <td>0.03</td>\n",
       "    </tr>\n",
       "    <tr>\n",
       "      <th>PassiveAggressiveClassifier</th>\n",
       "      <td>0.57</td>\n",
       "      <td>0.58</td>\n",
       "      <td>0.58</td>\n",
       "      <td>0.57</td>\n",
       "      <td>0.15</td>\n",
       "      <td>0.03</td>\n",
       "    </tr>\n",
       "    <tr>\n",
       "      <th>DummyClassifier</th>\n",
       "      <td>0.51</td>\n",
       "      <td>0.50</td>\n",
       "      <td>0.50</td>\n",
       "      <td>0.35</td>\n",
       "      <td>0.00</td>\n",
       "      <td>0.02</td>\n",
       "    </tr>\n",
       "  </tbody>\n",
       "</table>\n",
       "</div>"
      ],
      "text/plain": [
       "                               Accuracy  Balanced Accuracy  ROC AUC  F1 Score  \\\n",
       "Model                                                                           \n",
       "RandomForestClassifier             0.93               0.93     0.93      0.93   \n",
       "LabelSpreading                     0.93               0.93     0.93      0.93   \n",
       "LabelPropagation                   0.93               0.93     0.93      0.93   \n",
       "DecisionTreeClassifier             0.93               0.93     0.93      0.93   \n",
       "ExtraTreeClassifier                0.93               0.93     0.93      0.93   \n",
       "ExtraTreesClassifier               0.93               0.93     0.93      0.93   \n",
       "XGBClassifier                      0.93               0.93     0.93      0.93   \n",
       "BaggingClassifier                  0.92               0.92     0.92      0.92   \n",
       "LGBMClassifier                     0.92               0.92     0.92      0.92   \n",
       "NuSVC                              0.86               0.86     0.86      0.86   \n",
       "SVC                                0.82               0.82     0.82      0.82   \n",
       "KNeighborsClassifier               0.82               0.82     0.82      0.82   \n",
       "AdaBoostClassifier                 0.75               0.75     0.75      0.75   \n",
       "LogisticRegression                 0.73               0.73     0.73      0.73   \n",
       "LinearSVC                          0.73               0.73     0.73      0.73   \n",
       "LinearDiscriminantAnalysis         0.73               0.73     0.73      0.73   \n",
       "RidgeClassifier                    0.73               0.73     0.73      0.73   \n",
       "RidgeClassifierCV                  0.73               0.73     0.73      0.73   \n",
       "NearestCentroid                    0.73               0.73     0.73      0.73   \n",
       "SGDClassifier                      0.73               0.73     0.73      0.73   \n",
       "CalibratedClassifierCV             0.73               0.73     0.73      0.73   \n",
       "QuadraticDiscriminantAnalysis      0.72               0.72     0.72      0.72   \n",
       "GaussianNB                         0.71               0.71     0.71      0.70   \n",
       "BernoulliNB                        0.71               0.71     0.71      0.71   \n",
       "Perceptron                         0.63               0.63     0.63      0.63   \n",
       "PassiveAggressiveClassifier        0.57               0.58     0.58      0.57   \n",
       "DummyClassifier                    0.51               0.50     0.50      0.35   \n",
       "\n",
       "                               matthews_corrcoef  Time Taken  \n",
       "Model                                                         \n",
       "RandomForestClassifier                      0.86        0.56  \n",
       "LabelSpreading                              0.86        0.73  \n",
       "LabelPropagation                            0.86        0.59  \n",
       "DecisionTreeClassifier                      0.87        0.08  \n",
       "ExtraTreeClassifier                         0.87        0.02  \n",
       "ExtraTreesClassifier                        0.87        0.38  \n",
       "XGBClassifier                               0.86        0.14  \n",
       "BaggingClassifier                           0.84        0.17  \n",
       "LGBMClassifier                              0.83        0.17  \n",
       "NuSVC                                       0.73        0.59  \n",
       "SVC                                         0.65        0.52  \n",
       "KNeighborsClassifier                        0.63        0.26  \n",
       "AdaBoostClassifier                          0.51        0.32  \n",
       "LogisticRegression                          0.46        0.04  \n",
       "LinearSVC                                   0.46        0.29  \n",
       "LinearDiscriminantAnalysis                  0.46        0.07  \n",
       "RidgeClassifier                             0.46        0.02  \n",
       "RidgeClassifierCV                           0.46        0.05  \n",
       "NearestCentroid                             0.46        0.03  \n",
       "SGDClassifier                               0.46        0.11  \n",
       "CalibratedClassifierCV                      0.45        1.14  \n",
       "QuadraticDiscriminantAnalysis               0.44        0.03  \n",
       "GaussianNB                                  0.42        0.02  \n",
       "BernoulliNB                                 0.41        0.02  \n",
       "Perceptron                                  0.25        0.03  \n",
       "PassiveAggressiveClassifier                 0.15        0.03  \n",
       "DummyClassifier                             0.00        0.02  "
      ]
     },
     "execution_count": 26,
     "metadata": {},
     "output_type": "execute_result"
    }
   ],
   "source": [
    "models_train"
   ]
  },
  {
   "cell_type": "code",
   "execution_count": 27,
   "id": "64a9b7a6-ca03-4834-9a46-09400584c76f",
   "metadata": {},
   "outputs": [
    {
     "name": "stderr",
     "output_type": "stream",
     "text": [
      "100%|█████████████████████████████████████████████████████████████████| 29/29 [00:05<00:00,  5.37it/s]"
     ]
    },
    {
     "name": "stdout",
     "output_type": "stream",
     "text": [
      "[LightGBM] [Info] Number of positive: 1145, number of negative: 1212\n",
      "[LightGBM] [Info] Auto-choosing row-wise multi-threading, the overhead of testing was 0.000238 seconds.\n",
      "You can set `force_row_wise=true` to remove the overhead.\n",
      "And if memory is not enough, you can set `force_col_wise=true`.\n",
      "[LightGBM] [Info] Total Bins 1223\n",
      "[LightGBM] [Info] Number of data points in the train set: 2357, number of used features: 20\n",
      "[LightGBM] [Info] [binary:BoostFromScore]: pavg=0.485787 -> initscore=-0.056867\n",
      "[LightGBM] [Info] Start training from score -0.056867\n"
     ]
    },
    {
     "name": "stderr",
     "output_type": "stream",
     "text": [
      "\n"
     ]
    }
   ],
   "source": [
    "clf = LazyClassifier(custom_metric=matthews_corrcoef)\n",
    "models_test, predictions_test = clf.fit(X_train, X_test, y_train, y_test)"
   ]
  },
  {
   "cell_type": "code",
   "execution_count": 28,
   "id": "189744e5-56fb-4cf3-b5b4-27c5db6e3681",
   "metadata": {},
   "outputs": [
    {
     "data": {
      "text/html": [
       "<div>\n",
       "<style scoped>\n",
       "    .dataframe tbody tr th:only-of-type {\n",
       "        vertical-align: middle;\n",
       "    }\n",
       "\n",
       "    .dataframe tbody tr th {\n",
       "        vertical-align: top;\n",
       "    }\n",
       "\n",
       "    .dataframe thead th {\n",
       "        text-align: right;\n",
       "    }\n",
       "</style>\n",
       "<table border=\"1\" class=\"dataframe\">\n",
       "  <thead>\n",
       "    <tr style=\"text-align: right;\">\n",
       "      <th></th>\n",
       "      <th>Accuracy</th>\n",
       "      <th>Balanced Accuracy</th>\n",
       "      <th>ROC AUC</th>\n",
       "      <th>F1 Score</th>\n",
       "      <th>matthews_corrcoef</th>\n",
       "      <th>Time Taken</th>\n",
       "    </tr>\n",
       "    <tr>\n",
       "      <th>Model</th>\n",
       "      <th></th>\n",
       "      <th></th>\n",
       "      <th></th>\n",
       "      <th></th>\n",
       "      <th></th>\n",
       "      <th></th>\n",
       "    </tr>\n",
       "  </thead>\n",
       "  <tbody>\n",
       "    <tr>\n",
       "      <th>NuSVC</th>\n",
       "      <td>0.75</td>\n",
       "      <td>0.76</td>\n",
       "      <td>0.76</td>\n",
       "      <td>0.75</td>\n",
       "      <td>0.51</td>\n",
       "      <td>0.38</td>\n",
       "    </tr>\n",
       "    <tr>\n",
       "      <th>SVC</th>\n",
       "      <td>0.75</td>\n",
       "      <td>0.76</td>\n",
       "      <td>0.76</td>\n",
       "      <td>0.75</td>\n",
       "      <td>0.51</td>\n",
       "      <td>0.34</td>\n",
       "    </tr>\n",
       "    <tr>\n",
       "      <th>LinearDiscriminantAnalysis</th>\n",
       "      <td>0.73</td>\n",
       "      <td>0.73</td>\n",
       "      <td>0.73</td>\n",
       "      <td>0.73</td>\n",
       "      <td>0.45</td>\n",
       "      <td>0.06</td>\n",
       "    </tr>\n",
       "    <tr>\n",
       "      <th>RidgeClassifier</th>\n",
       "      <td>0.73</td>\n",
       "      <td>0.73</td>\n",
       "      <td>0.73</td>\n",
       "      <td>0.73</td>\n",
       "      <td>0.45</td>\n",
       "      <td>0.03</td>\n",
       "    </tr>\n",
       "    <tr>\n",
       "      <th>RidgeClassifierCV</th>\n",
       "      <td>0.72</td>\n",
       "      <td>0.73</td>\n",
       "      <td>0.73</td>\n",
       "      <td>0.72</td>\n",
       "      <td>0.45</td>\n",
       "      <td>0.05</td>\n",
       "    </tr>\n",
       "    <tr>\n",
       "      <th>LinearSVC</th>\n",
       "      <td>0.72</td>\n",
       "      <td>0.72</td>\n",
       "      <td>0.72</td>\n",
       "      <td>0.72</td>\n",
       "      <td>0.44</td>\n",
       "      <td>0.31</td>\n",
       "    </tr>\n",
       "    <tr>\n",
       "      <th>CalibratedClassifierCV</th>\n",
       "      <td>0.72</td>\n",
       "      <td>0.72</td>\n",
       "      <td>0.72</td>\n",
       "      <td>0.72</td>\n",
       "      <td>0.44</td>\n",
       "      <td>1.14</td>\n",
       "    </tr>\n",
       "    <tr>\n",
       "      <th>KNeighborsClassifier</th>\n",
       "      <td>0.72</td>\n",
       "      <td>0.72</td>\n",
       "      <td>0.72</td>\n",
       "      <td>0.72</td>\n",
       "      <td>0.44</td>\n",
       "      <td>0.14</td>\n",
       "    </tr>\n",
       "    <tr>\n",
       "      <th>LogisticRegression</th>\n",
       "      <td>0.72</td>\n",
       "      <td>0.72</td>\n",
       "      <td>0.72</td>\n",
       "      <td>0.72</td>\n",
       "      <td>0.44</td>\n",
       "      <td>0.04</td>\n",
       "    </tr>\n",
       "    <tr>\n",
       "      <th>NearestCentroid</th>\n",
       "      <td>0.72</td>\n",
       "      <td>0.72</td>\n",
       "      <td>0.72</td>\n",
       "      <td>0.72</td>\n",
       "      <td>0.43</td>\n",
       "      <td>0.02</td>\n",
       "    </tr>\n",
       "    <tr>\n",
       "      <th>LGBMClassifier</th>\n",
       "      <td>0.71</td>\n",
       "      <td>0.71</td>\n",
       "      <td>0.71</td>\n",
       "      <td>0.71</td>\n",
       "      <td>0.42</td>\n",
       "      <td>0.12</td>\n",
       "    </tr>\n",
       "    <tr>\n",
       "      <th>AdaBoostClassifier</th>\n",
       "      <td>0.71</td>\n",
       "      <td>0.71</td>\n",
       "      <td>0.71</td>\n",
       "      <td>0.71</td>\n",
       "      <td>0.42</td>\n",
       "      <td>0.23</td>\n",
       "    </tr>\n",
       "    <tr>\n",
       "      <th>QuadraticDiscriminantAnalysis</th>\n",
       "      <td>0.71</td>\n",
       "      <td>0.71</td>\n",
       "      <td>0.71</td>\n",
       "      <td>0.71</td>\n",
       "      <td>0.42</td>\n",
       "      <td>0.03</td>\n",
       "    </tr>\n",
       "    <tr>\n",
       "      <th>XGBClassifier</th>\n",
       "      <td>0.70</td>\n",
       "      <td>0.70</td>\n",
       "      <td>0.70</td>\n",
       "      <td>0.70</td>\n",
       "      <td>0.41</td>\n",
       "      <td>0.14</td>\n",
       "    </tr>\n",
       "    <tr>\n",
       "      <th>BernoulliNB</th>\n",
       "      <td>0.71</td>\n",
       "      <td>0.70</td>\n",
       "      <td>0.70</td>\n",
       "      <td>0.70</td>\n",
       "      <td>0.41</td>\n",
       "      <td>0.02</td>\n",
       "    </tr>\n",
       "    <tr>\n",
       "      <th>ExtraTreesClassifier</th>\n",
       "      <td>0.70</td>\n",
       "      <td>0.70</td>\n",
       "      <td>0.70</td>\n",
       "      <td>0.70</td>\n",
       "      <td>0.40</td>\n",
       "      <td>0.34</td>\n",
       "    </tr>\n",
       "    <tr>\n",
       "      <th>RandomForestClassifier</th>\n",
       "      <td>0.70</td>\n",
       "      <td>0.70</td>\n",
       "      <td>0.70</td>\n",
       "      <td>0.70</td>\n",
       "      <td>0.40</td>\n",
       "      <td>0.52</td>\n",
       "    </tr>\n",
       "    <tr>\n",
       "      <th>SGDClassifier</th>\n",
       "      <td>0.69</td>\n",
       "      <td>0.69</td>\n",
       "      <td>0.69</td>\n",
       "      <td>0.69</td>\n",
       "      <td>0.38</td>\n",
       "      <td>0.11</td>\n",
       "    </tr>\n",
       "    <tr>\n",
       "      <th>GaussianNB</th>\n",
       "      <td>0.69</td>\n",
       "      <td>0.69</td>\n",
       "      <td>0.69</td>\n",
       "      <td>0.68</td>\n",
       "      <td>0.38</td>\n",
       "      <td>0.02</td>\n",
       "    </tr>\n",
       "    <tr>\n",
       "      <th>BaggingClassifier</th>\n",
       "      <td>0.67</td>\n",
       "      <td>0.67</td>\n",
       "      <td>0.67</td>\n",
       "      <td>0.67</td>\n",
       "      <td>0.33</td>\n",
       "      <td>0.17</td>\n",
       "    </tr>\n",
       "    <tr>\n",
       "      <th>LabelSpreading</th>\n",
       "      <td>0.65</td>\n",
       "      <td>0.65</td>\n",
       "      <td>0.65</td>\n",
       "      <td>0.65</td>\n",
       "      <td>0.31</td>\n",
       "      <td>0.56</td>\n",
       "    </tr>\n",
       "    <tr>\n",
       "      <th>LabelPropagation</th>\n",
       "      <td>0.65</td>\n",
       "      <td>0.65</td>\n",
       "      <td>0.65</td>\n",
       "      <td>0.65</td>\n",
       "      <td>0.30</td>\n",
       "      <td>0.41</td>\n",
       "    </tr>\n",
       "    <tr>\n",
       "      <th>DecisionTreeClassifier</th>\n",
       "      <td>0.61</td>\n",
       "      <td>0.61</td>\n",
       "      <td>0.61</td>\n",
       "      <td>0.61</td>\n",
       "      <td>0.22</td>\n",
       "      <td>0.08</td>\n",
       "    </tr>\n",
       "    <tr>\n",
       "      <th>Perceptron</th>\n",
       "      <td>0.60</td>\n",
       "      <td>0.60</td>\n",
       "      <td>0.60</td>\n",
       "      <td>0.60</td>\n",
       "      <td>0.20</td>\n",
       "      <td>0.03</td>\n",
       "    </tr>\n",
       "    <tr>\n",
       "      <th>ExtraTreeClassifier</th>\n",
       "      <td>0.57</td>\n",
       "      <td>0.57</td>\n",
       "      <td>0.57</td>\n",
       "      <td>0.57</td>\n",
       "      <td>0.15</td>\n",
       "      <td>0.02</td>\n",
       "    </tr>\n",
       "    <tr>\n",
       "      <th>PassiveAggressiveClassifier</th>\n",
       "      <td>0.57</td>\n",
       "      <td>0.57</td>\n",
       "      <td>0.57</td>\n",
       "      <td>0.57</td>\n",
       "      <td>0.13</td>\n",
       "      <td>0.02</td>\n",
       "    </tr>\n",
       "    <tr>\n",
       "      <th>DummyClassifier</th>\n",
       "      <td>0.52</td>\n",
       "      <td>0.50</td>\n",
       "      <td>0.50</td>\n",
       "      <td>0.35</td>\n",
       "      <td>0.00</td>\n",
       "      <td>0.02</td>\n",
       "    </tr>\n",
       "  </tbody>\n",
       "</table>\n",
       "</div>"
      ],
      "text/plain": [
       "                               Accuracy  Balanced Accuracy  ROC AUC  F1 Score  \\\n",
       "Model                                                                           \n",
       "NuSVC                              0.75               0.76     0.76      0.75   \n",
       "SVC                                0.75               0.76     0.76      0.75   \n",
       "LinearDiscriminantAnalysis         0.73               0.73     0.73      0.73   \n",
       "RidgeClassifier                    0.73               0.73     0.73      0.73   \n",
       "RidgeClassifierCV                  0.72               0.73     0.73      0.72   \n",
       "LinearSVC                          0.72               0.72     0.72      0.72   \n",
       "CalibratedClassifierCV             0.72               0.72     0.72      0.72   \n",
       "KNeighborsClassifier               0.72               0.72     0.72      0.72   \n",
       "LogisticRegression                 0.72               0.72     0.72      0.72   \n",
       "NearestCentroid                    0.72               0.72     0.72      0.72   \n",
       "LGBMClassifier                     0.71               0.71     0.71      0.71   \n",
       "AdaBoostClassifier                 0.71               0.71     0.71      0.71   \n",
       "QuadraticDiscriminantAnalysis      0.71               0.71     0.71      0.71   \n",
       "XGBClassifier                      0.70               0.70     0.70      0.70   \n",
       "BernoulliNB                        0.71               0.70     0.70      0.70   \n",
       "ExtraTreesClassifier               0.70               0.70     0.70      0.70   \n",
       "RandomForestClassifier             0.70               0.70     0.70      0.70   \n",
       "SGDClassifier                      0.69               0.69     0.69      0.69   \n",
       "GaussianNB                         0.69               0.69     0.69      0.68   \n",
       "BaggingClassifier                  0.67               0.67     0.67      0.67   \n",
       "LabelSpreading                     0.65               0.65     0.65      0.65   \n",
       "LabelPropagation                   0.65               0.65     0.65      0.65   \n",
       "DecisionTreeClassifier             0.61               0.61     0.61      0.61   \n",
       "Perceptron                         0.60               0.60     0.60      0.60   \n",
       "ExtraTreeClassifier                0.57               0.57     0.57      0.57   \n",
       "PassiveAggressiveClassifier        0.57               0.57     0.57      0.57   \n",
       "DummyClassifier                    0.52               0.50     0.50      0.35   \n",
       "\n",
       "                               matthews_corrcoef  Time Taken  \n",
       "Model                                                         \n",
       "NuSVC                                       0.51        0.38  \n",
       "SVC                                         0.51        0.34  \n",
       "LinearDiscriminantAnalysis                  0.45        0.06  \n",
       "RidgeClassifier                             0.45        0.03  \n",
       "RidgeClassifierCV                           0.45        0.05  \n",
       "LinearSVC                                   0.44        0.31  \n",
       "CalibratedClassifierCV                      0.44        1.14  \n",
       "KNeighborsClassifier                        0.44        0.14  \n",
       "LogisticRegression                          0.44        0.04  \n",
       "NearestCentroid                             0.43        0.02  \n",
       "LGBMClassifier                              0.42        0.12  \n",
       "AdaBoostClassifier                          0.42        0.23  \n",
       "QuadraticDiscriminantAnalysis               0.42        0.03  \n",
       "XGBClassifier                               0.41        0.14  \n",
       "BernoulliNB                                 0.41        0.02  \n",
       "ExtraTreesClassifier                        0.40        0.34  \n",
       "RandomForestClassifier                      0.40        0.52  \n",
       "SGDClassifier                               0.38        0.11  \n",
       "GaussianNB                                  0.38        0.02  \n",
       "BaggingClassifier                           0.33        0.17  \n",
       "LabelSpreading                              0.31        0.56  \n",
       "LabelPropagation                            0.30        0.41  \n",
       "DecisionTreeClassifier                      0.22        0.08  \n",
       "Perceptron                                  0.20        0.03  \n",
       "ExtraTreeClassifier                         0.15        0.02  \n",
       "PassiveAggressiveClassifier                 0.13        0.02  \n",
       "DummyClassifier                             0.00        0.02  "
      ]
     },
     "execution_count": 28,
     "metadata": {},
     "output_type": "execute_result"
    }
   ],
   "source": [
    "models_test"
   ]
  },
  {
   "cell_type": "markdown",
   "id": "46fb084e-c27a-458d-96b1-ef8116a81813",
   "metadata": {},
   "source": [
    "#### **4.3 Random Forest**"
   ]
  },
  {
   "cell_type": "code",
   "execution_count": 29,
   "id": "19c08f7d-2485-47a9-ba82-9855cc7339d8",
   "metadata": {},
   "outputs": [
    {
     "data": {
      "text/html": [
       "<style>#sk-container-id-1 {color: black;background-color: white;}#sk-container-id-1 pre{padding: 0;}#sk-container-id-1 div.sk-toggleable {background-color: white;}#sk-container-id-1 label.sk-toggleable__label {cursor: pointer;display: block;width: 100%;margin-bottom: 0;padding: 0.3em;box-sizing: border-box;text-align: center;}#sk-container-id-1 label.sk-toggleable__label-arrow:before {content: \"▸\";float: left;margin-right: 0.25em;color: #696969;}#sk-container-id-1 label.sk-toggleable__label-arrow:hover:before {color: black;}#sk-container-id-1 div.sk-estimator:hover label.sk-toggleable__label-arrow:before {color: black;}#sk-container-id-1 div.sk-toggleable__content {max-height: 0;max-width: 0;overflow: hidden;text-align: left;background-color: #f0f8ff;}#sk-container-id-1 div.sk-toggleable__content pre {margin: 0.2em;color: black;border-radius: 0.25em;background-color: #f0f8ff;}#sk-container-id-1 input.sk-toggleable__control:checked~div.sk-toggleable__content {max-height: 200px;max-width: 100%;overflow: auto;}#sk-container-id-1 input.sk-toggleable__control:checked~label.sk-toggleable__label-arrow:before {content: \"▾\";}#sk-container-id-1 div.sk-estimator input.sk-toggleable__control:checked~label.sk-toggleable__label {background-color: #d4ebff;}#sk-container-id-1 div.sk-label input.sk-toggleable__control:checked~label.sk-toggleable__label {background-color: #d4ebff;}#sk-container-id-1 input.sk-hidden--visually {border: 0;clip: rect(1px 1px 1px 1px);clip: rect(1px, 1px, 1px, 1px);height: 1px;margin: -1px;overflow: hidden;padding: 0;position: absolute;width: 1px;}#sk-container-id-1 div.sk-estimator {font-family: monospace;background-color: #f0f8ff;border: 1px dotted black;border-radius: 0.25em;box-sizing: border-box;margin-bottom: 0.5em;}#sk-container-id-1 div.sk-estimator:hover {background-color: #d4ebff;}#sk-container-id-1 div.sk-parallel-item::after {content: \"\";width: 100%;border-bottom: 1px solid gray;flex-grow: 1;}#sk-container-id-1 div.sk-label:hover label.sk-toggleable__label {background-color: #d4ebff;}#sk-container-id-1 div.sk-serial::before {content: \"\";position: absolute;border-left: 1px solid gray;box-sizing: border-box;top: 0;bottom: 0;left: 50%;z-index: 0;}#sk-container-id-1 div.sk-serial {display: flex;flex-direction: column;align-items: center;background-color: white;padding-right: 0.2em;padding-left: 0.2em;position: relative;}#sk-container-id-1 div.sk-item {position: relative;z-index: 1;}#sk-container-id-1 div.sk-parallel {display: flex;align-items: stretch;justify-content: center;background-color: white;position: relative;}#sk-container-id-1 div.sk-item::before, #sk-container-id-1 div.sk-parallel-item::before {content: \"\";position: absolute;border-left: 1px solid gray;box-sizing: border-box;top: 0;bottom: 0;left: 50%;z-index: -1;}#sk-container-id-1 div.sk-parallel-item {display: flex;flex-direction: column;z-index: 1;position: relative;background-color: white;}#sk-container-id-1 div.sk-parallel-item:first-child::after {align-self: flex-end;width: 50%;}#sk-container-id-1 div.sk-parallel-item:last-child::after {align-self: flex-start;width: 50%;}#sk-container-id-1 div.sk-parallel-item:only-child::after {width: 0;}#sk-container-id-1 div.sk-dashed-wrapped {border: 1px dashed gray;margin: 0 0.4em 0.5em 0.4em;box-sizing: border-box;padding-bottom: 0.4em;background-color: white;}#sk-container-id-1 div.sk-label label {font-family: monospace;font-weight: bold;display: inline-block;line-height: 1.2em;}#sk-container-id-1 div.sk-label-container {text-align: center;}#sk-container-id-1 div.sk-container {/* jupyter's `normalize.less` sets `[hidden] { display: none; }` but bootstrap.min.css set `[hidden] { display: none !important; }` so we also need the `!important` here to be able to override the default hidden behavior on the sphinx rendered scikit-learn.org. See: https://github.com/scikit-learn/scikit-learn/issues/21755 */display: inline-block !important;position: relative;}#sk-container-id-1 div.sk-text-repr-fallback {display: none;}</style><div id=\"sk-container-id-1\" class=\"sk-top-container\"><div class=\"sk-text-repr-fallback\"><pre>RandomForestClassifier(n_estimators=500, random_state=0)</pre><b>In a Jupyter environment, please rerun this cell to show the HTML representation or trust the notebook. <br />On GitHub, the HTML representation is unable to render, please try loading this page with nbviewer.org.</b></div><div class=\"sk-container\" hidden><div class=\"sk-item\"><div class=\"sk-estimator sk-toggleable\"><input class=\"sk-toggleable__control sk-hidden--visually\" id=\"sk-estimator-id-1\" type=\"checkbox\" checked><label for=\"sk-estimator-id-1\" class=\"sk-toggleable__label sk-toggleable__label-arrow\">RandomForestClassifier</label><div class=\"sk-toggleable__content\"><pre>RandomForestClassifier(n_estimators=500, random_state=0)</pre></div></div></div></div></div>"
      ],
      "text/plain": [
       "RandomForestClassifier(n_estimators=500, random_state=0)"
      ]
     },
     "execution_count": 29,
     "metadata": {},
     "output_type": "execute_result"
    }
   ],
   "source": [
    "rf_classifier = RandomForestClassifier(random_state=0, n_estimators=500)\n",
    "rf_classifier.fit(X_train, y_train)"
   ]
  },
  {
   "cell_type": "code",
   "execution_count": 30,
   "id": "258ef966-5b95-44d0-8d67-3fbdce8c673b",
   "metadata": {},
   "outputs": [
    {
     "data": {
      "text/plain": [
       "0.9316928298684769"
      ]
     },
     "execution_count": 30,
     "metadata": {},
     "output_type": "execute_result"
    }
   ],
   "source": [
    "rf_classifier.score(X_train, y_train)"
   ]
  },
  {
   "cell_type": "code",
   "execution_count": 31,
   "id": "af0ffc6b-2355-475a-b206-3f56b7817a82",
   "metadata": {},
   "outputs": [
    {
     "data": {
      "text/plain": [
       "0.6949152542372882"
      ]
     },
     "execution_count": 31,
     "metadata": {},
     "output_type": "execute_result"
    }
   ],
   "source": [
    "rf_classifier.score(X_test, y_test)"
   ]
  },
  {
   "cell_type": "code",
   "execution_count": 32,
   "id": "6da0d324-0548-4c6a-a5bf-4043268c0f0b",
   "metadata": {},
   "outputs": [],
   "source": [
    "rf_y_pred_train = rf_classifier.predict(X_train)\n",
    "rf_y_pred_test = rf_classifier.predict(X_test)"
   ]
  },
  {
   "cell_type": "code",
   "execution_count": 33,
   "id": "f29b2447-a41e-415b-94e4-e9740431a552",
   "metadata": {},
   "outputs": [
    {
     "data": {
      "text/plain": [
       "0.3890449290410277"
      ]
     },
     "execution_count": 33,
     "metadata": {},
     "output_type": "execute_result"
    }
   ],
   "source": [
    "# Matthews correlation coefficient is a measure of the quality of binary classifications\n",
    "matthews_corrcoef(y_test, rf_y_pred_test)"
   ]
  },
  {
   "cell_type": "code",
   "execution_count": 34,
   "id": "74f722db-16f1-4c62-8c97-4c3021aa11cb",
   "metadata": {},
   "outputs": [
    {
     "name": "stdout",
     "output_type": "stream",
     "text": [
      "[[1095  117]\n",
      " [  44 1101]]\n"
     ]
    }
   ],
   "source": [
    "confusion_matrix_train = confusion_matrix(y_train, rf_y_pred_train)\n",
    "print(confusion_matrix_train)"
   ]
  },
  {
   "cell_type": "code",
   "execution_count": 35,
   "id": "3deaabf4-4f2d-446a-b9af-1f1ee1cf2977",
   "metadata": {},
   "outputs": [
    {
     "data": {
      "image/png": "[encoded data removed]",
      "text/plain": [
       "<Figure size 640x480 with 2 Axes>"
      ]
     },
     "metadata": {},
     "output_type": "display_data"
    }
   ],
   "source": [
    "_ = ConfusionMatrixDisplay(confusion_matrix_train).plot()"
   ]
  },
  {
   "cell_type": "code",
   "execution_count": 36,
   "id": "bfadd646-0d97-488e-8e3d-a6e241cd2123",
   "metadata": {},
   "outputs": [
    {
     "name": "stdout",
     "output_type": "stream",
     "text": [
      "[[216  88]\n",
      " [ 92 194]]\n"
     ]
    }
   ],
   "source": [
    "confusion_matrix_test = confusion_matrix(y_test, rf_y_pred_test)\n",
    "print(confusion_matrix_test)"
   ]
  },
  {
   "cell_type": "code",
   "execution_count": 37,
   "id": "f6f00d17-418b-4ad7-9718-5e5d27a747c4",
   "metadata": {},
   "outputs": [
    {
     "data": {
      "image/png": "[encoded data removed]",
      "text/plain": [
       "<Figure size 640x480 with 2 Axes>"
      ]
     },
     "metadata": {},
     "output_type": "display_data"
    }
   ],
   "source": [
    "_ = ConfusionMatrixDisplay(confusion_matrix_test).plot()"
   ]
  },
  {
   "cell_type": "code",
   "execution_count": 38,
   "id": "d62f5048-e6ec-45f1-bd9f-d83417d0a361",
   "metadata": {},
   "outputs": [
    {
     "name": "stdout",
     "output_type": "stream",
     "text": [
      "              precision    recall  f1-score   support\n",
      "\n",
      "    positive       0.96      0.90      0.93      1212\n",
      "    negative       0.90      0.96      0.93      1145\n",
      "\n",
      "    accuracy                           0.93      2357\n",
      "   macro avg       0.93      0.93      0.93      2357\n",
      "weighted avg       0.93      0.93      0.93      2357\n",
      "\n"
     ]
    }
   ],
   "source": [
    "model_report_train = classification_report(y_train, rf_y_pred_train, \n",
    "                                           target_names=[\"positive\", \"negative\"])\n",
    "print(model_report_train)"
   ]
  },
  {
   "cell_type": "code",
   "execution_count": 39,
   "id": "1b832c0b-93f8-426a-877c-0080ad42ad96",
   "metadata": {},
   "outputs": [
    {
     "name": "stdout",
     "output_type": "stream",
     "text": [
      "              precision    recall  f1-score   support\n",
      "\n",
      "    positive       0.70      0.71      0.71       304\n",
      "    negative       0.69      0.68      0.68       286\n",
      "\n",
      "    accuracy                           0.69       590\n",
      "   macro avg       0.69      0.69      0.69       590\n",
      "weighted avg       0.69      0.69      0.69       590\n",
      "\n"
     ]
    }
   ],
   "source": [
    "model_report_test = classification_report(y_test, rf_y_pred_test, \n",
    "                                          target_names=[\"positive\", \"negative\"])\n",
    "print(model_report_test)"
   ]
  },
  {
   "cell_type": "markdown",
   "id": "121b042c-6d9d-4ecd-9eac-282d1a483687",
   "metadata": {},
   "source": [
    "#### **ROC Curve**"
   ]
  },
  {
   "cell_type": "code",
   "execution_count": 40,
   "id": "52950216-03a2-4a39-9008-74a763fc5766",
   "metadata": {},
   "outputs": [
    {
     "data": {
      "image/png": "[encoded data removed]",
      "text/plain": [
       "<Figure size 640x480 with 1 Axes>"
      ]
     },
     "metadata": {},
     "output_type": "display_data"
    }
   ],
   "source": [
    "plot_roc_curve(rf_classifier, X_train, y_train)  \n",
    "plt.show()"
   ]
  },
  {
   "cell_type": "code",
   "execution_count": 41,
   "id": "dd1e1eee-1723-4e05-95ce-24bf9ecf1fa0",
   "metadata": {},
   "outputs": [
    {
     "data": {
      "image/png": "[encoded data removed]",
      "text/plain": [
       "<Figure size 640x480 with 1 Axes>"
      ]
     },
     "metadata": {},
     "output_type": "display_data"
    }
   ],
   "source": [
    "plot_roc_curve(rf_classifier, X_test, y_test)  \n",
    "plt.show()"
   ]
  },
  {
   "cell_type": "code",
   "execution_count": null,
   "id": "b78aeec6-4d44-4914-93ec-08588770c79a",
   "metadata": {},
   "outputs": [],
   "source": []
  }
 ],
 "metadata": {
  "kernelspec": {
   "display_name": "Python 3 (ipykernel)",
   "language": "python",
   "name": "python3"
  },
  "language_info": {
   "codemirror_mode": {
    "name": "ipython",
    "version": 3
   },
   "file_extension": ".py",
   "mimetype": "text/x-python",
   "name": "python",
   "nbconvert_exporter": "python",
   "pygments_lexer": "ipython3",
   "version": "3.8.10"
  }
 },
 "nbformat": 4,
 "nbformat_minor": 5
}
