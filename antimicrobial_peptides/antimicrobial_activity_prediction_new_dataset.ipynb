{
 "cells": [
  {
   "cell_type": "markdown",
   "id": "89daa323-f26c-4d66-bade-9613d633c6f4",
   "metadata": {},
   "source": [
    "This Jupyter notebook demonstrates techniques for predicting the antimicrobial activity of peptides.\\\n",
    "\\\n",
    "The data used in this analysis is sourced from [data source](https://cbbio.online/AxPEP/?action=dataset)\n",
    "\n",
    "1. Load and Preprocess Data\n",
    "2. Visualizations\n",
    "3. Calculate Features \n",
    "    - Amino Acid Composition\n",
    "4. Aplly ML\n",
    "    - Dataset Preparation\n",
    "    - Try Different ML Algorithms for Antimicrobial Activity Prediction\n",
    "    - Random Forest"
   ]
  },
  {
   "cell_type": "code",
   "execution_count": 1,
   "id": "82d1aadd-408d-4598-8e34-5d308453cadc",
   "metadata": {},
   "outputs": [],
   "source": [
    "import subprocess\n",
    "from typing import Optional, List\n",
    "\n",
    "import pandas as pd\n",
    "import numpy as np\n",
    "from scipy.stats import norm\n",
    "\n",
    "from sklearn.ensemble import RandomForestClassifier\n",
    "from sklearn.feature_selection import VarianceThreshold\n",
    "from sklearn.model_selection import train_test_split\n",
    "from sklearn.metrics import confusion_matrix, classification_report, \\\n",
    "    matthews_corrcoef, \\\n",
    "    precision_recall_curve, PrecisionRecallDisplay, \\\n",
    "    confusion_matrix, ConfusionMatrixDisplay\n",
    "\n",
    "from lazypredict.Supervised import LazyClassifier\n",
    "\n",
    "import matplotlib.pyplot as plt\n",
    "import seaborn as sns"
   ]
  },
  {
   "cell_type": "code",
   "execution_count": 2,
   "id": "d6b8829f-def5-4c65-877d-f7ce5e0c4557",
   "metadata": {},
   "outputs": [],
   "source": [
    "AMINO_ACIDS_LETTERS = \"ACDEFGHIKLMNPQRSTVWY\"\n",
    "AAC_FEATURES = [\"AAC_\" + letter for letter in AMINO_ACIDS_LETTERS]"
   ]
  },
  {
   "cell_type": "markdown",
   "id": "91153c79-0d66-421e-9702-699db914e74a",
   "metadata": {},
   "source": [
    "### **1. Load and Preprocess Data**"
   ]
  },
  {
   "cell_type": "code",
   "execution_count": 3,
   "id": "33ec9c67-fbd5-48dd-a164-cf17b9e24ebd",
   "metadata": {},
   "outputs": [],
   "source": [
    "po_AMP_file = \"./data/train_AMP_3268.fasta\"\n",
    "ne_AMP_file = \"./data/train_nonAMP_9777.fasta\""
   ]
  },
  {
   "cell_type": "code",
   "execution_count": 4,
   "id": "acbf6c86-52cc-4a19-8b8a-6269fc0cf7bd",
   "metadata": {},
   "outputs": [
    {
     "name": "stdout",
     "output_type": "stream",
     "text": [
      "(6536, 1)\n"
     ]
    },
    {
     "data": {
      "text/html": [
       "<div>\n",
       "<style scoped>\n",
       "    .dataframe tbody tr th:only-of-type {\n",
       "        vertical-align: middle;\n",
       "    }\n",
       "\n",
       "    .dataframe tbody tr th {\n",
       "        vertical-align: top;\n",
       "    }\n",
       "\n",
       "    .dataframe thead th {\n",
       "        text-align: right;\n",
       "    }\n",
       "</style>\n",
       "<table border=\"1\" class=\"dataframe\">\n",
       "  <thead>\n",
       "    <tr style=\"text-align: right;\">\n",
       "      <th></th>\n",
       "      <th>0</th>\n",
       "    </tr>\n",
       "  </thead>\n",
       "  <tbody>\n",
       "    <tr>\n",
       "      <th>0</th>\n",
       "      <td>&gt;AMP_1</td>\n",
       "    </tr>\n",
       "    <tr>\n",
       "      <th>1</th>\n",
       "      <td>AACSDRAHGHICESFKSFCKDSGRNGVKLRANCKKTCGLC</td>\n",
       "    </tr>\n",
       "    <tr>\n",
       "      <th>2</th>\n",
       "      <td>&gt;AMP_2</td>\n",
       "    </tr>\n",
       "    <tr>\n",
       "      <th>3</th>\n",
       "      <td>AAEFPDFYDSEEQMGPHQEAEDEKDRADQRVLTEEEKKELENLAAM...</td>\n",
       "    </tr>\n",
       "    <tr>\n",
       "      <th>4</th>\n",
       "      <td>&gt;AMP_3</td>\n",
       "    </tr>\n",
       "  </tbody>\n",
       "</table>\n",
       "</div>"
      ],
      "text/plain": [
       "                                                   0\n",
       "0                                             >AMP_1\n",
       "1           AACSDRAHGHICESFKSFCKDSGRNGVKLRANCKKTCGLC\n",
       "2                                             >AMP_2\n",
       "3  AAEFPDFYDSEEQMGPHQEAEDEKDRADQRVLTEEEKKELENLAAM...\n",
       "4                                             >AMP_3"
      ]
     },
     "execution_count": 4,
     "metadata": {},
     "output_type": "execute_result"
    }
   ],
   "source": [
    "# take a look at the data\n",
    "df = pd.read_csv(po_AMP_file, header=None)\n",
    "print(df.shape)\n",
    "df.head()"
   ]
  },
  {
   "cell_type": "code",
   "execution_count": 5,
   "id": "06c41859-53fb-4a7b-95d4-433e4437b298",
   "metadata": {},
   "outputs": [],
   "source": [
    "def load_data(file_name: str) -> pd.DataFrame:\n",
    "    df = pd.read_csv(file_name, header=None)\n",
    "    \n",
    "    # skip lines like \">amp5_30_85\"\n",
    "    # take only peptides\n",
    "    df = df.iloc[1::2]\n",
    "    df = df.reset_index(drop=True)\n",
    "    \n",
    "    return df"
   ]
  },
  {
   "cell_type": "code",
   "execution_count": 6,
   "id": "2d38c554-bbc2-4e66-9abc-a70f8490c736",
   "metadata": {},
   "outputs": [],
   "source": [
    "df_po = load_data(po_AMP_file)\n",
    "df_ne = load_data(ne_AMP_file)"
   ]
  },
  {
   "cell_type": "code",
   "execution_count": 7,
   "id": "5cb58b3b-0139-450c-ad94-0a68f4f07ebd",
   "metadata": {},
   "outputs": [
    {
     "name": "stdout",
     "output_type": "stream",
     "text": [
      "(3268, 1) (9777, 1)\n"
     ]
    }
   ],
   "source": [
    "print(df_po.shape, df_ne.shape)"
   ]
  },
  {
   "cell_type": "code",
   "execution_count": 8,
   "id": "72b5d521-cf8a-43a5-b078-9d6e08dd9288",
   "metadata": {},
   "outputs": [
    {
     "data": {
      "text/html": [
       "<div>\n",
       "<style scoped>\n",
       "    .dataframe tbody tr th:only-of-type {\n",
       "        vertical-align: middle;\n",
       "    }\n",
       "\n",
       "    .dataframe tbody tr th {\n",
       "        vertical-align: top;\n",
       "    }\n",
       "\n",
       "    .dataframe thead th {\n",
       "        text-align: right;\n",
       "    }\n",
       "</style>\n",
       "<table border=\"1\" class=\"dataframe\">\n",
       "  <thead>\n",
       "    <tr style=\"text-align: right;\">\n",
       "      <th></th>\n",
       "      <th>0</th>\n",
       "    </tr>\n",
       "  </thead>\n",
       "  <tbody>\n",
       "    <tr>\n",
       "      <th>0</th>\n",
       "      <td>AACSDRAHGHICESFKSFCKDSGRNGVKLRANCKKTCGLC</td>\n",
       "    </tr>\n",
       "    <tr>\n",
       "      <th>1</th>\n",
       "      <td>AAEFPDFYDSEEQMGPHQEAEDEKDRADQRVLTEEEKKELENLAAM...</td>\n",
       "    </tr>\n",
       "    <tr>\n",
       "      <th>2</th>\n",
       "      <td>AAFFAQQKGLPTQQQNQVSPKAVSMIVNLEGCVRNPYKCPADVWTN...</td>\n",
       "    </tr>\n",
       "    <tr>\n",
       "      <th>3</th>\n",
       "      <td>AAFRGCWTKNYSPKPCL</td>\n",
       "    </tr>\n",
       "    <tr>\n",
       "      <th>4</th>\n",
       "      <td>AAGMGFFGAR</td>\n",
       "    </tr>\n",
       "  </tbody>\n",
       "</table>\n",
       "</div>"
      ],
      "text/plain": [
       "                                                   0\n",
       "0           AACSDRAHGHICESFKSFCKDSGRNGVKLRANCKKTCGLC\n",
       "1  AAEFPDFYDSEEQMGPHQEAEDEKDRADQRVLTEEEKKELENLAAM...\n",
       "2  AAFFAQQKGLPTQQQNQVSPKAVSMIVNLEGCVRNPYKCPADVWTN...\n",
       "3                                  AAFRGCWTKNYSPKPCL\n",
       "4                                         AAGMGFFGAR"
      ]
     },
     "execution_count": 8,
     "metadata": {},
     "output_type": "execute_result"
    }
   ],
   "source": [
    "df_po.head()"
   ]
  },
  {
   "cell_type": "markdown",
   "id": "07f7acce-1155-4e84-b9f7-c2646ca572c7",
   "metadata": {},
   "source": [
    "#### Create Unified Dataset with Labels"
   ]
  },
  {
   "cell_type": "code",
   "execution_count": 9,
   "id": "eeec9a9f-0ac5-4bb4-9ffc-1f23a46deaeb",
   "metadata": {},
   "outputs": [
    {
     "name": "stdout",
     "output_type": "stream",
     "text": [
      "13045\n"
     ]
    }
   ],
   "source": [
    "labels = [1] * len(df_po) + [0] * len(df_ne)\n",
    "\n",
    "print(len(labels))"
   ]
  },
  {
   "cell_type": "code",
   "execution_count": 10,
   "id": "fc72071a-0acf-4cb0-9047-2671a8a519f4",
   "metadata": {},
   "outputs": [
    {
     "data": {
      "text/plain": [
       "(13045, 2)"
      ]
     },
     "execution_count": 10,
     "metadata": {},
     "output_type": "execute_result"
    }
   ],
   "source": [
    "df = pd.concat([df_po, df_ne], \n",
    "               ignore_index=True, axis=0)\n",
    "df = df.rename(columns={0: \"Peptide\"})\n",
    "df[\"Active\"] = labels\n",
    "df.shape"
   ]
  },
  {
   "cell_type": "code",
   "execution_count": 11,
   "id": "5d95af05-def9-4edf-aee3-6ac63b3cfebf",
   "metadata": {},
   "outputs": [
    {
     "data": {
      "text/html": [
       "<div>\n",
       "<style scoped>\n",
       "    .dataframe tbody tr th:only-of-type {\n",
       "        vertical-align: middle;\n",
       "    }\n",
       "\n",
       "    .dataframe tbody tr th {\n",
       "        vertical-align: top;\n",
       "    }\n",
       "\n",
       "    .dataframe thead th {\n",
       "        text-align: right;\n",
       "    }\n",
       "</style>\n",
       "<table border=\"1\" class=\"dataframe\">\n",
       "  <thead>\n",
       "    <tr style=\"text-align: right;\">\n",
       "      <th></th>\n",
       "      <th>Peptide</th>\n",
       "      <th>Active</th>\n",
       "    </tr>\n",
       "  </thead>\n",
       "  <tbody>\n",
       "    <tr>\n",
       "      <th>0</th>\n",
       "      <td>AACSDRAHGHICESFKSFCKDSGRNGVKLRANCKKTCGLC</td>\n",
       "      <td>1</td>\n",
       "    </tr>\n",
       "    <tr>\n",
       "      <th>1</th>\n",
       "      <td>AAEFPDFYDSEEQMGPHQEAEDEKDRADQRVLTEEEKKELENLAAM...</td>\n",
       "      <td>1</td>\n",
       "    </tr>\n",
       "    <tr>\n",
       "      <th>2</th>\n",
       "      <td>AAFFAQQKGLPTQQQNQVSPKAVSMIVNLEGCVRNPYKCPADVWTN...</td>\n",
       "      <td>1</td>\n",
       "    </tr>\n",
       "    <tr>\n",
       "      <th>3</th>\n",
       "      <td>AAFRGCWTKNYSPKPCL</td>\n",
       "      <td>1</td>\n",
       "    </tr>\n",
       "    <tr>\n",
       "      <th>4</th>\n",
       "      <td>AAGMGFFGAR</td>\n",
       "      <td>1</td>\n",
       "    </tr>\n",
       "  </tbody>\n",
       "</table>\n",
       "</div>"
      ],
      "text/plain": [
       "                                             Peptide  Active\n",
       "0           AACSDRAHGHICESFKSFCKDSGRNGVKLRANCKKTCGLC       1\n",
       "1  AAEFPDFYDSEEQMGPHQEAEDEKDRADQRVLTEEEKKELENLAAM...       1\n",
       "2  AAFFAQQKGLPTQQQNQVSPKAVSMIVNLEGCVRNPYKCPADVWTN...       1\n",
       "3                                  AAFRGCWTKNYSPKPCL       1\n",
       "4                                         AAGMGFFGAR       1"
      ]
     },
     "execution_count": 11,
     "metadata": {},
     "output_type": "execute_result"
    }
   ],
   "source": [
    "df.head()"
   ]
  },
  {
   "cell_type": "markdown",
   "id": "fbf7d71f-f491-43e8-be25-41c850d9b4cd",
   "metadata": {},
   "source": [
    "### **2. Visualizations**"
   ]
  },
  {
   "cell_type": "code",
   "execution_count": 12,
   "id": "efc90109-34c1-4c8a-b053-1b43dfcc0394",
   "metadata": {},
   "outputs": [],
   "source": [
    "def histogram_plot(df: pd.DataFrame, x_axis: str, x_label: str):\n",
    "    plt.figure(figsize=(5, 5))\n",
    "\n",
    "    data = df[x_axis].tolist()\n",
    "    mu, sigma = norm.fit(data)\n",
    "\n",
    "    n, bins, patches = plt.hist(data, bins=50,  density=True, alpha=0.9)\n",
    "\n",
    "    y = norm.pdf(bins, mu, sigma)\n",
    "    l = plt.plot(bins, y, \"k--\", linewidth=2)\n",
    "\n",
    "    plt.title(r\"$\\mu=%.3f,\\ \\sigma=%.3f$\" %(mu, sigma))\n",
    "    plt.xlabel(x_label, fontsize=10, fontweight=\"bold\")\n",
    "    plt.ylabel(\"Number of compounds\", fontsize=10, fontweight=\"bold\")\n",
    "    plt.grid(True)\n",
    "    plt.show()"
   ]
  },
  {
   "cell_type": "code",
   "execution_count": 13,
   "id": "af052038-7def-498e-85fc-62c1d231e5be",
   "metadata": {},
   "outputs": [
    {
     "data": {
      "image/png": "[encoded data removed]",
      "text/plain": [
       "<Figure size 500x500 with 1 Axes>"
      ]
     },
     "metadata": {},
     "output_type": "display_data"
    }
   ],
   "source": [
    "plt.figure(figsize=(5, 5))\n",
    "\n",
    "sns.countplot(x=\"labels\", data=pd.DataFrame(data=labels, \n",
    "                columns=[\"labels\"]), edgecolor=\"black\")\n",
    "\n",
    "plt.xlabel(\"Activity Class\", fontsize=10, fontweight=\"bold\")\n",
    "plt.ylabel(\"Frequency\", fontsize=10, fontweight=\"bold\")\n",
    "plt.show()"
   ]
  },
  {
   "cell_type": "code",
   "execution_count": 14,
   "id": "7625d475-98fc-429c-81c0-b29f0d17a442",
   "metadata": {},
   "outputs": [
    {
     "name": "stdout",
     "output_type": "stream",
     "text": [
      "13045\n"
     ]
    }
   ],
   "source": [
    "peptide_lengths = []\n",
    "\n",
    "for peptide in df[\"Peptide\"]:\n",
    "    peptide_lengths.append(len(peptide))\n",
    "    \n",
    "print(len(peptide_lengths))"
   ]
  },
  {
   "cell_type": "code",
   "execution_count": 15,
   "id": "c6eee5d2-9f10-4813-a789-9e893adccb65",
   "metadata": {},
   "outputs": [],
   "source": [
    "df_len = pd.DataFrame(data=peptide_lengths, columns=[\"peptide_lengths\"])"
   ]
  },
  {
   "cell_type": "code",
   "execution_count": 16,
   "id": "cff40408-c13e-464f-ad81-a0e8ed7722c5",
   "metadata": {},
   "outputs": [
    {
     "data": {
      "image/png": "[encoded data removed]",
      "text/plain": [
       "<Figure size 500x500 with 1 Axes>"
      ]
     },
     "metadata": {},
     "output_type": "display_data"
    }
   ],
   "source": [
    "histogram_plot(df_len, x_axis=\"peptide_lengths\", \n",
    "               x_label=\"Peptide Lengths\")"
   ]
  },
  {
   "cell_type": "markdown",
   "id": "4d2d6ff8-ca68-4e7b-b73d-dca38bd415b6",
   "metadata": {},
   "source": [
    "### **3. Calculate Features**"
   ]
  },
  {
   "cell_type": "markdown",
   "id": "a90d3107-b2b5-4730-9e79-9089a5ce8f7a",
   "metadata": {},
   "source": [
    "#### **Amino Acid Composition**\n",
    "The amino acid composition of a peptide refers to the relative abundance or percentage of each amino acid in the peptide sequence.\\\n",
    "Let $N_i$ be the number of occurrences of the $i_{th}$ amino acid in the peptide sequence.\\\n",
    "The percentage ($P_i$) of each amino acid is calculated as:\n",
    "\n",
    "$$P_i = \\frac{N_i}{len(peptide)} * 100$$"
   ]
  },
  {
   "cell_type": "code",
   "execution_count": 17,
   "id": "0d91bdf2-951c-42a0-8ad6-7cf8eedecc9a",
   "metadata": {},
   "outputs": [],
   "source": [
    "def calculate_amino_acid_composition(peptides: List) -> np.array:\n",
    "    res = np.zeros(shape=[len(peptides), len(AMINO_ACIDS_LETTERS)])\n",
    "    \n",
    "    for i, peptide in enumerate(peptides):\n",
    "        occs = [0] * len(AMINO_ACIDS_LETTERS)\n",
    "        idcs = {AMINO_ACIDS_LETTERS[i]: i for i in range(len(AMINO_ACIDS_LETTERS))}\n",
    "\n",
    "        for ac in peptide:\n",
    "            occs[idcs[ac]] += 1\n",
    "\n",
    "        occs = np.array(occs) / len(peptide) * 100\n",
    "        res[i] = occs\n",
    "        \n",
    "    return res"
   ]
  },
  {
   "cell_type": "code",
   "execution_count": 18,
   "id": "c1c04084-7e31-416d-8ca8-215ad0cb756d",
   "metadata": {},
   "outputs": [
    {
     "name": "stdout",
     "output_type": "stream",
     "text": [
      "(13045, 20)\n"
     ]
    }
   ],
   "source": [
    "acc_features = calculate_amino_acid_composition(df[\"Peptide\"].to_numpy().flatten())\n",
    "print(acc_features.shape)"
   ]
  },
  {
   "cell_type": "code",
   "execution_count": 19,
   "id": "3780799c-a946-489b-a373-703ea63f2aa3",
   "metadata": {},
   "outputs": [
    {
     "name": "stdout",
     "output_type": "stream",
     "text": [
      "[10.  15.   5.   2.5  5.  10.   5.   2.5 12.5  5.   0.   5.   0.   0.\n",
      "  7.5 10.   2.5  2.5  0.   0. ]\n"
     ]
    }
   ],
   "source": [
    "print(acc_features[0])"
   ]
  },
  {
   "cell_type": "code",
   "execution_count": 20,
   "id": "2a16c882-2906-4212-82f2-3bef8182c41f",
   "metadata": {},
   "outputs": [
    {
     "data": {
      "text/plain": [
       "(13045, 20)"
      ]
     },
     "execution_count": 20,
     "metadata": {},
     "output_type": "execute_result"
    }
   ],
   "source": [
    "acc_df = pd.DataFrame(acc_features, columns=AAC_FEATURES)\n",
    "acc_df.shape"
   ]
  },
  {
   "cell_type": "code",
   "execution_count": 21,
   "id": "b40075ed-e8ae-4b03-8d03-74e036f2f999",
   "metadata": {},
   "outputs": [
    {
     "data": {
      "text/html": [
       "<div>\n",
       "<style scoped>\n",
       "    .dataframe tbody tr th:only-of-type {\n",
       "        vertical-align: middle;\n",
       "    }\n",
       "\n",
       "    .dataframe tbody tr th {\n",
       "        vertical-align: top;\n",
       "    }\n",
       "\n",
       "    .dataframe thead th {\n",
       "        text-align: right;\n",
       "    }\n",
       "</style>\n",
       "<table border=\"1\" class=\"dataframe\">\n",
       "  <thead>\n",
       "    <tr style=\"text-align: right;\">\n",
       "      <th></th>\n",
       "      <th>AAC_A</th>\n",
       "      <th>AAC_C</th>\n",
       "      <th>AAC_D</th>\n",
       "      <th>AAC_E</th>\n",
       "      <th>AAC_F</th>\n",
       "      <th>AAC_G</th>\n",
       "      <th>AAC_H</th>\n",
       "      <th>AAC_I</th>\n",
       "      <th>AAC_K</th>\n",
       "      <th>AAC_L</th>\n",
       "      <th>AAC_M</th>\n",
       "      <th>AAC_N</th>\n",
       "      <th>AAC_P</th>\n",
       "      <th>AAC_Q</th>\n",
       "      <th>AAC_R</th>\n",
       "      <th>AAC_S</th>\n",
       "      <th>AAC_T</th>\n",
       "      <th>AAC_V</th>\n",
       "      <th>AAC_W</th>\n",
       "      <th>AAC_Y</th>\n",
       "    </tr>\n",
       "  </thead>\n",
       "  <tbody>\n",
       "    <tr>\n",
       "      <th>0</th>\n",
       "      <td>10.00</td>\n",
       "      <td>15.00</td>\n",
       "      <td>5.00</td>\n",
       "      <td>2.50</td>\n",
       "      <td>5.00</td>\n",
       "      <td>10.00</td>\n",
       "      <td>5.00</td>\n",
       "      <td>2.50</td>\n",
       "      <td>12.50</td>\n",
       "      <td>5.00</td>\n",
       "      <td>0.00</td>\n",
       "      <td>5.00</td>\n",
       "      <td>0.00</td>\n",
       "      <td>0.00</td>\n",
       "      <td>7.50</td>\n",
       "      <td>10.00</td>\n",
       "      <td>2.50</td>\n",
       "      <td>2.50</td>\n",
       "      <td>0.00</td>\n",
       "      <td>0.00</td>\n",
       "    </tr>\n",
       "    <tr>\n",
       "      <th>1</th>\n",
       "      <td>11.67</td>\n",
       "      <td>0.00</td>\n",
       "      <td>10.00</td>\n",
       "      <td>21.67</td>\n",
       "      <td>5.00</td>\n",
       "      <td>1.67</td>\n",
       "      <td>1.67</td>\n",
       "      <td>1.67</td>\n",
       "      <td>8.33</td>\n",
       "      <td>8.33</td>\n",
       "      <td>3.33</td>\n",
       "      <td>1.67</td>\n",
       "      <td>3.33</td>\n",
       "      <td>8.33</td>\n",
       "      <td>5.00</td>\n",
       "      <td>3.33</td>\n",
       "      <td>1.67</td>\n",
       "      <td>1.67</td>\n",
       "      <td>0.00</td>\n",
       "      <td>1.67</td>\n",
       "    </tr>\n",
       "    <tr>\n",
       "      <th>2</th>\n",
       "      <td>8.88</td>\n",
       "      <td>3.55</td>\n",
       "      <td>3.55</td>\n",
       "      <td>5.33</td>\n",
       "      <td>2.96</td>\n",
       "      <td>7.69</td>\n",
       "      <td>0.59</td>\n",
       "      <td>5.33</td>\n",
       "      <td>8.28</td>\n",
       "      <td>5.92</td>\n",
       "      <td>2.37</td>\n",
       "      <td>10.06</td>\n",
       "      <td>2.37</td>\n",
       "      <td>6.51</td>\n",
       "      <td>5.33</td>\n",
       "      <td>2.96</td>\n",
       "      <td>6.51</td>\n",
       "      <td>7.10</td>\n",
       "      <td>1.18</td>\n",
       "      <td>3.55</td>\n",
       "    </tr>\n",
       "    <tr>\n",
       "      <th>3</th>\n",
       "      <td>11.76</td>\n",
       "      <td>11.76</td>\n",
       "      <td>0.00</td>\n",
       "      <td>0.00</td>\n",
       "      <td>5.88</td>\n",
       "      <td>5.88</td>\n",
       "      <td>0.00</td>\n",
       "      <td>0.00</td>\n",
       "      <td>11.76</td>\n",
       "      <td>5.88</td>\n",
       "      <td>0.00</td>\n",
       "      <td>5.88</td>\n",
       "      <td>11.76</td>\n",
       "      <td>0.00</td>\n",
       "      <td>5.88</td>\n",
       "      <td>5.88</td>\n",
       "      <td>5.88</td>\n",
       "      <td>0.00</td>\n",
       "      <td>5.88</td>\n",
       "      <td>5.88</td>\n",
       "    </tr>\n",
       "    <tr>\n",
       "      <th>4</th>\n",
       "      <td>30.00</td>\n",
       "      <td>0.00</td>\n",
       "      <td>0.00</td>\n",
       "      <td>0.00</td>\n",
       "      <td>20.00</td>\n",
       "      <td>30.00</td>\n",
       "      <td>0.00</td>\n",
       "      <td>0.00</td>\n",
       "      <td>0.00</td>\n",
       "      <td>0.00</td>\n",
       "      <td>10.00</td>\n",
       "      <td>0.00</td>\n",
       "      <td>0.00</td>\n",
       "      <td>0.00</td>\n",
       "      <td>10.00</td>\n",
       "      <td>0.00</td>\n",
       "      <td>0.00</td>\n",
       "      <td>0.00</td>\n",
       "      <td>0.00</td>\n",
       "      <td>0.00</td>\n",
       "    </tr>\n",
       "  </tbody>\n",
       "</table>\n",
       "</div>"
      ],
      "text/plain": [
       "   AAC_A  AAC_C  AAC_D  AAC_E  AAC_F  AAC_G  AAC_H  AAC_I  AAC_K  AAC_L  \\\n",
       "0  10.00  15.00   5.00   2.50   5.00  10.00   5.00   2.50  12.50   5.00   \n",
       "1  11.67   0.00  10.00  21.67   5.00   1.67   1.67   1.67   8.33   8.33   \n",
       "2   8.88   3.55   3.55   5.33   2.96   7.69   0.59   5.33   8.28   5.92   \n",
       "3  11.76  11.76   0.00   0.00   5.88   5.88   0.00   0.00  11.76   5.88   \n",
       "4  30.00   0.00   0.00   0.00  20.00  30.00   0.00   0.00   0.00   0.00   \n",
       "\n",
       "   AAC_M  AAC_N  AAC_P  AAC_Q  AAC_R  AAC_S  AAC_T  AAC_V  AAC_W  AAC_Y  \n",
       "0   0.00   5.00   0.00   0.00   7.50  10.00   2.50   2.50   0.00   0.00  \n",
       "1   3.33   1.67   3.33   8.33   5.00   3.33   1.67   1.67   0.00   1.67  \n",
       "2   2.37  10.06   2.37   6.51   5.33   2.96   6.51   7.10   1.18   3.55  \n",
       "3   0.00   5.88  11.76   0.00   5.88   5.88   5.88   0.00   5.88   5.88  \n",
       "4  10.00   0.00   0.00   0.00  10.00   0.00   0.00   0.00   0.00   0.00  "
      ]
     },
     "execution_count": 21,
     "metadata": {},
     "output_type": "execute_result"
    }
   ],
   "source": [
    "acc_df.head()"
   ]
  },
  {
   "cell_type": "markdown",
   "id": "57d0768d-4e7f-4de0-9195-d47aeae3147d",
   "metadata": {},
   "source": [
    "### **4. Apply ML**"
   ]
  },
  {
   "cell_type": "markdown",
   "id": "79aee810-2bc1-441d-ba9d-51dc95087f10",
   "metadata": {},
   "source": [
    "#### **4.1 Dataset Preparation**"
   ]
  },
  {
   "cell_type": "code",
   "execution_count": 22,
   "id": "8c0795ad-935d-49c1-a5c0-7f0c25aa5dea",
   "metadata": {},
   "outputs": [
    {
     "name": "stdout",
     "output_type": "stream",
     "text": [
      "(13045, 20) (13045,)\n"
     ]
    }
   ],
   "source": [
    "X, y = acc_df, df[\"Active\"]\n",
    "print(X.shape, y.shape)"
   ]
  },
  {
   "cell_type": "code",
   "execution_count": 23,
   "id": "400db0c0-b2fc-4cb2-87a6-43214ddec9a9",
   "metadata": {},
   "outputs": [
    {
     "data": {
      "text/plain": [
       "(13045, 20)"
      ]
     },
     "execution_count": 23,
     "metadata": {},
     "output_type": "execute_result"
    }
   ],
   "source": [
    "# remove low variance features\n",
    "selection = VarianceThreshold(threshold=0.1)    \n",
    "X = selection.fit_transform(X)\n",
    "X.shape"
   ]
  },
  {
   "cell_type": "code",
   "execution_count": 24,
   "id": "09577f59-ca69-438d-a67f-37dd26ea13a5",
   "metadata": {},
   "outputs": [],
   "source": [
    "X_train, X_test, y_train, y_test = train_test_split(X, y, test_size=0.2, \n",
    "                                                    random_state=10, stratify=y)"
   ]
  },
  {
   "cell_type": "markdown",
   "id": "dbb9683c-2a65-4fe9-be5f-398085deb07e",
   "metadata": {},
   "source": [
    "#### **4.2 Try Different ML Algorithms for Antimicrobial Activity Prediction**"
   ]
  },
  {
   "cell_type": "code",
   "execution_count": 25,
   "id": "fe3ebd82-6936-45cc-9144-fc5a9b91317e",
   "metadata": {},
   "outputs": [
    {
     "name": "stderr",
     "output_type": "stream",
     "text": [
      " 97%|█████████████████████████████████████████▌ | 28/29 [00:47<00:00,  1.01it/s]"
     ]
    },
    {
     "name": "stdout",
     "output_type": "stream",
     "text": [
      "[LightGBM] [Info] Number of positive: 2614, number of negative: 7822\n",
      "[LightGBM] [Info] Auto-choosing col-wise multi-threading, the overhead of testing was 0.001879 seconds.\n",
      "You can set `force_col_wise=true` to remove the overhead.\n",
      "[LightGBM] [Info] Total Bins 5100\n",
      "[LightGBM] [Info] Number of data points in the train set: 10436, number of used features: 20\n",
      "[LightGBM] [Info] [binary:BoostFromScore]: pavg=0.250479 -> initscore=-1.096059\n",
      "[LightGBM] [Info] Start training from score -1.096059\n"
     ]
    },
    {
     "name": "stderr",
     "output_type": "stream",
     "text": [
      "100%|███████████████████████████████████████████| 29/29 [00:48<00:00,  1.66s/it]\n"
     ]
    }
   ],
   "source": [
    "clf = LazyClassifier(custom_metric=matthews_corrcoef)\n",
    "models_train, predictions_train = clf.fit(X_train, X_train, y_train, y_train)"
   ]
  },
  {
   "cell_type": "code",
   "execution_count": 26,
   "id": "01f05236-9343-4998-8af5-96deec8d8dba",
   "metadata": {},
   "outputs": [
    {
     "data": {
      "text/html": [
       "<div>\n",
       "<style scoped>\n",
       "    .dataframe tbody tr th:only-of-type {\n",
       "        vertical-align: middle;\n",
       "    }\n",
       "\n",
       "    .dataframe tbody tr th {\n",
       "        vertical-align: top;\n",
       "    }\n",
       "\n",
       "    .dataframe thead th {\n",
       "        text-align: right;\n",
       "    }\n",
       "</style>\n",
       "<table border=\"1\" class=\"dataframe\">\n",
       "  <thead>\n",
       "    <tr style=\"text-align: right;\">\n",
       "      <th></th>\n",
       "      <th>Accuracy</th>\n",
       "      <th>Balanced Accuracy</th>\n",
       "      <th>ROC AUC</th>\n",
       "      <th>F1 Score</th>\n",
       "      <th>matthews_corrcoef</th>\n",
       "      <th>Time Taken</th>\n",
       "    </tr>\n",
       "    <tr>\n",
       "      <th>Model</th>\n",
       "      <th></th>\n",
       "      <th></th>\n",
       "      <th></th>\n",
       "      <th></th>\n",
       "      <th></th>\n",
       "      <th></th>\n",
       "    </tr>\n",
       "  </thead>\n",
       "  <tbody>\n",
       "    <tr>\n",
       "      <th>LabelSpreading</th>\n",
       "      <td>1.00</td>\n",
       "      <td>1.00</td>\n",
       "      <td>1.00</td>\n",
       "      <td>1.00</td>\n",
       "      <td>1.00</td>\n",
       "      <td>11.71</td>\n",
       "    </tr>\n",
       "    <tr>\n",
       "      <th>XGBClassifier</th>\n",
       "      <td>1.00</td>\n",
       "      <td>1.00</td>\n",
       "      <td>1.00</td>\n",
       "      <td>1.00</td>\n",
       "      <td>1.00</td>\n",
       "      <td>0.48</td>\n",
       "    </tr>\n",
       "    <tr>\n",
       "      <th>DecisionTreeClassifier</th>\n",
       "      <td>1.00</td>\n",
       "      <td>1.00</td>\n",
       "      <td>1.00</td>\n",
       "      <td>1.00</td>\n",
       "      <td>1.00</td>\n",
       "      <td>0.40</td>\n",
       "    </tr>\n",
       "    <tr>\n",
       "      <th>RandomForestClassifier</th>\n",
       "      <td>1.00</td>\n",
       "      <td>1.00</td>\n",
       "      <td>1.00</td>\n",
       "      <td>1.00</td>\n",
       "      <td>1.00</td>\n",
       "      <td>3.99</td>\n",
       "    </tr>\n",
       "    <tr>\n",
       "      <th>ExtraTreeClassifier</th>\n",
       "      <td>1.00</td>\n",
       "      <td>1.00</td>\n",
       "      <td>1.00</td>\n",
       "      <td>1.00</td>\n",
       "      <td>1.00</td>\n",
       "      <td>0.04</td>\n",
       "    </tr>\n",
       "    <tr>\n",
       "      <th>ExtraTreesClassifier</th>\n",
       "      <td>1.00</td>\n",
       "      <td>1.00</td>\n",
       "      <td>1.00</td>\n",
       "      <td>1.00</td>\n",
       "      <td>1.00</td>\n",
       "      <td>1.09</td>\n",
       "    </tr>\n",
       "    <tr>\n",
       "      <th>LabelPropagation</th>\n",
       "      <td>1.00</td>\n",
       "      <td>1.00</td>\n",
       "      <td>1.00</td>\n",
       "      <td>1.00</td>\n",
       "      <td>1.00</td>\n",
       "      <td>7.98</td>\n",
       "    </tr>\n",
       "    <tr>\n",
       "      <th>LGBMClassifier</th>\n",
       "      <td>1.00</td>\n",
       "      <td>0.99</td>\n",
       "      <td>0.99</td>\n",
       "      <td>1.00</td>\n",
       "      <td>0.99</td>\n",
       "      <td>0.47</td>\n",
       "    </tr>\n",
       "    <tr>\n",
       "      <th>BaggingClassifier</th>\n",
       "      <td>1.00</td>\n",
       "      <td>0.99</td>\n",
       "      <td>0.99</td>\n",
       "      <td>1.00</td>\n",
       "      <td>0.99</td>\n",
       "      <td>1.99</td>\n",
       "    </tr>\n",
       "    <tr>\n",
       "      <th>SVC</th>\n",
       "      <td>0.97</td>\n",
       "      <td>0.96</td>\n",
       "      <td>0.96</td>\n",
       "      <td>0.97</td>\n",
       "      <td>0.93</td>\n",
       "      <td>2.71</td>\n",
       "    </tr>\n",
       "    <tr>\n",
       "      <th>KNeighborsClassifier</th>\n",
       "      <td>0.96</td>\n",
       "      <td>0.93</td>\n",
       "      <td>0.93</td>\n",
       "      <td>0.96</td>\n",
       "      <td>0.89</td>\n",
       "      <td>0.73</td>\n",
       "    </tr>\n",
       "    <tr>\n",
       "      <th>AdaBoostClassifier</th>\n",
       "      <td>0.94</td>\n",
       "      <td>0.91</td>\n",
       "      <td>0.91</td>\n",
       "      <td>0.94</td>\n",
       "      <td>0.84</td>\n",
       "      <td>1.29</td>\n",
       "    </tr>\n",
       "    <tr>\n",
       "      <th>QuadraticDiscriminantAnalysis</th>\n",
       "      <td>0.92</td>\n",
       "      <td>0.91</td>\n",
       "      <td>0.91</td>\n",
       "      <td>0.92</td>\n",
       "      <td>0.80</td>\n",
       "      <td>0.08</td>\n",
       "    </tr>\n",
       "    <tr>\n",
       "      <th>NuSVC</th>\n",
       "      <td>0.92</td>\n",
       "      <td>0.89</td>\n",
       "      <td>0.89</td>\n",
       "      <td>0.92</td>\n",
       "      <td>0.80</td>\n",
       "      <td>8.16</td>\n",
       "    </tr>\n",
       "    <tr>\n",
       "      <th>GaussianNB</th>\n",
       "      <td>0.91</td>\n",
       "      <td>0.89</td>\n",
       "      <td>0.89</td>\n",
       "      <td>0.91</td>\n",
       "      <td>0.77</td>\n",
       "      <td>0.04</td>\n",
       "    </tr>\n",
       "    <tr>\n",
       "      <th>NearestCentroid</th>\n",
       "      <td>0.90</td>\n",
       "      <td>0.87</td>\n",
       "      <td>0.87</td>\n",
       "      <td>0.90</td>\n",
       "      <td>0.73</td>\n",
       "      <td>0.07</td>\n",
       "    </tr>\n",
       "    <tr>\n",
       "      <th>LogisticRegression</th>\n",
       "      <td>0.91</td>\n",
       "      <td>0.85</td>\n",
       "      <td>0.85</td>\n",
       "      <td>0.91</td>\n",
       "      <td>0.75</td>\n",
       "      <td>0.08</td>\n",
       "    </tr>\n",
       "    <tr>\n",
       "      <th>CalibratedClassifierCV</th>\n",
       "      <td>0.91</td>\n",
       "      <td>0.85</td>\n",
       "      <td>0.85</td>\n",
       "      <td>0.91</td>\n",
       "      <td>0.75</td>\n",
       "      <td>4.62</td>\n",
       "    </tr>\n",
       "    <tr>\n",
       "      <th>LinearSVC</th>\n",
       "      <td>0.91</td>\n",
       "      <td>0.85</td>\n",
       "      <td>0.85</td>\n",
       "      <td>0.91</td>\n",
       "      <td>0.75</td>\n",
       "      <td>1.34</td>\n",
       "    </tr>\n",
       "    <tr>\n",
       "      <th>SGDClassifier</th>\n",
       "      <td>0.90</td>\n",
       "      <td>0.84</td>\n",
       "      <td>0.84</td>\n",
       "      <td>0.90</td>\n",
       "      <td>0.73</td>\n",
       "      <td>0.16</td>\n",
       "    </tr>\n",
       "    <tr>\n",
       "      <th>LinearDiscriminantAnalysis</th>\n",
       "      <td>0.91</td>\n",
       "      <td>0.84</td>\n",
       "      <td>0.84</td>\n",
       "      <td>0.90</td>\n",
       "      <td>0.74</td>\n",
       "      <td>0.13</td>\n",
       "    </tr>\n",
       "    <tr>\n",
       "      <th>RidgeClassifier</th>\n",
       "      <td>0.90</td>\n",
       "      <td>0.83</td>\n",
       "      <td>0.83</td>\n",
       "      <td>0.90</td>\n",
       "      <td>0.73</td>\n",
       "      <td>0.06</td>\n",
       "    </tr>\n",
       "    <tr>\n",
       "      <th>RidgeClassifierCV</th>\n",
       "      <td>0.90</td>\n",
       "      <td>0.83</td>\n",
       "      <td>0.83</td>\n",
       "      <td>0.90</td>\n",
       "      <td>0.73</td>\n",
       "      <td>0.09</td>\n",
       "    </tr>\n",
       "    <tr>\n",
       "      <th>Perceptron</th>\n",
       "      <td>0.88</td>\n",
       "      <td>0.81</td>\n",
       "      <td>0.81</td>\n",
       "      <td>0.87</td>\n",
       "      <td>0.66</td>\n",
       "      <td>0.07</td>\n",
       "    </tr>\n",
       "    <tr>\n",
       "      <th>BernoulliNB</th>\n",
       "      <td>0.86</td>\n",
       "      <td>0.80</td>\n",
       "      <td>0.80</td>\n",
       "      <td>0.86</td>\n",
       "      <td>0.62</td>\n",
       "      <td>0.06</td>\n",
       "    </tr>\n",
       "    <tr>\n",
       "      <th>PassiveAggressiveClassifier</th>\n",
       "      <td>0.87</td>\n",
       "      <td>0.79</td>\n",
       "      <td>0.79</td>\n",
       "      <td>0.86</td>\n",
       "      <td>0.63</td>\n",
       "      <td>0.06</td>\n",
       "    </tr>\n",
       "    <tr>\n",
       "      <th>DummyClassifier</th>\n",
       "      <td>0.75</td>\n",
       "      <td>0.50</td>\n",
       "      <td>0.50</td>\n",
       "      <td>0.64</td>\n",
       "      <td>0.00</td>\n",
       "      <td>0.03</td>\n",
       "    </tr>\n",
       "  </tbody>\n",
       "</table>\n",
       "</div>"
      ],
      "text/plain": [
       "                               Accuracy  Balanced Accuracy  ROC AUC  F1 Score  \\\n",
       "Model                                                                           \n",
       "LabelSpreading                     1.00               1.00     1.00      1.00   \n",
       "XGBClassifier                      1.00               1.00     1.00      1.00   \n",
       "DecisionTreeClassifier             1.00               1.00     1.00      1.00   \n",
       "RandomForestClassifier             1.00               1.00     1.00      1.00   \n",
       "ExtraTreeClassifier                1.00               1.00     1.00      1.00   \n",
       "ExtraTreesClassifier               1.00               1.00     1.00      1.00   \n",
       "LabelPropagation                   1.00               1.00     1.00      1.00   \n",
       "LGBMClassifier                     1.00               0.99     0.99      1.00   \n",
       "BaggingClassifier                  1.00               0.99     0.99      1.00   \n",
       "SVC                                0.97               0.96     0.96      0.97   \n",
       "KNeighborsClassifier               0.96               0.93     0.93      0.96   \n",
       "AdaBoostClassifier                 0.94               0.91     0.91      0.94   \n",
       "QuadraticDiscriminantAnalysis      0.92               0.91     0.91      0.92   \n",
       "NuSVC                              0.92               0.89     0.89      0.92   \n",
       "GaussianNB                         0.91               0.89     0.89      0.91   \n",
       "NearestCentroid                    0.90               0.87     0.87      0.90   \n",
       "LogisticRegression                 0.91               0.85     0.85      0.91   \n",
       "CalibratedClassifierCV             0.91               0.85     0.85      0.91   \n",
       "LinearSVC                          0.91               0.85     0.85      0.91   \n",
       "SGDClassifier                      0.90               0.84     0.84      0.90   \n",
       "LinearDiscriminantAnalysis         0.91               0.84     0.84      0.90   \n",
       "RidgeClassifier                    0.90               0.83     0.83      0.90   \n",
       "RidgeClassifierCV                  0.90               0.83     0.83      0.90   \n",
       "Perceptron                         0.88               0.81     0.81      0.87   \n",
       "BernoulliNB                        0.86               0.80     0.80      0.86   \n",
       "PassiveAggressiveClassifier        0.87               0.79     0.79      0.86   \n",
       "DummyClassifier                    0.75               0.50     0.50      0.64   \n",
       "\n",
       "                               matthews_corrcoef  Time Taken  \n",
       "Model                                                         \n",
       "LabelSpreading                              1.00       11.71  \n",
       "XGBClassifier                               1.00        0.48  \n",
       "DecisionTreeClassifier                      1.00        0.40  \n",
       "RandomForestClassifier                      1.00        3.99  \n",
       "ExtraTreeClassifier                         1.00        0.04  \n",
       "ExtraTreesClassifier                        1.00        1.09  \n",
       "LabelPropagation                            1.00        7.98  \n",
       "LGBMClassifier                              0.99        0.47  \n",
       "BaggingClassifier                           0.99        1.99  \n",
       "SVC                                         0.93        2.71  \n",
       "KNeighborsClassifier                        0.89        0.73  \n",
       "AdaBoostClassifier                          0.84        1.29  \n",
       "QuadraticDiscriminantAnalysis               0.80        0.08  \n",
       "NuSVC                                       0.80        8.16  \n",
       "GaussianNB                                  0.77        0.04  \n",
       "NearestCentroid                             0.73        0.07  \n",
       "LogisticRegression                          0.75        0.08  \n",
       "CalibratedClassifierCV                      0.75        4.62  \n",
       "LinearSVC                                   0.75        1.34  \n",
       "SGDClassifier                               0.73        0.16  \n",
       "LinearDiscriminantAnalysis                  0.74        0.13  \n",
       "RidgeClassifier                             0.73        0.06  \n",
       "RidgeClassifierCV                           0.73        0.09  \n",
       "Perceptron                                  0.66        0.07  \n",
       "BernoulliNB                                 0.62        0.06  \n",
       "PassiveAggressiveClassifier                 0.63        0.06  \n",
       "DummyClassifier                             0.00        0.03  "
      ]
     },
     "execution_count": 26,
     "metadata": {},
     "output_type": "execute_result"
    }
   ],
   "source": [
    "models_train"
   ]
  },
  {
   "cell_type": "code",
   "execution_count": 27,
   "id": "64a9b7a6-ca03-4834-9a46-09400584c76f",
   "metadata": {},
   "outputs": [
    {
     "name": "stderr",
     "output_type": "stream",
     "text": [
      " 97%|█████████████████████████████████████████▌ | 28/29 [00:36<00:00,  1.35it/s]"
     ]
    },
    {
     "name": "stdout",
     "output_type": "stream",
     "text": [
      "[LightGBM] [Info] Number of positive: 2614, number of negative: 7822\n",
      "[LightGBM] [Info] Auto-choosing col-wise multi-threading, the overhead of testing was 0.001462 seconds.\n",
      "You can set `force_col_wise=true` to remove the overhead.\n",
      "[LightGBM] [Info] Total Bins 5100\n",
      "[LightGBM] [Info] Number of data points in the train set: 10436, number of used features: 20\n",
      "[LightGBM] [Info] [binary:BoostFromScore]: pavg=0.250479 -> initscore=-1.096059\n",
      "[LightGBM] [Info] Start training from score -1.096059\n"
     ]
    },
    {
     "name": "stderr",
     "output_type": "stream",
     "text": [
      "100%|███████████████████████████████████████████| 29/29 [00:37<00:00,  1.28s/it]\n"
     ]
    }
   ],
   "source": [
    "clf = LazyClassifier(custom_metric=matthews_corrcoef)\n",
    "models_test, predictions_test = clf.fit(X_train, X_test, y_train, y_test)"
   ]
  },
  {
   "cell_type": "code",
   "execution_count": 28,
   "id": "189744e5-56fb-4cf3-b5b4-27c5db6e3681",
   "metadata": {},
   "outputs": [
    {
     "data": {
      "text/html": [
       "<div>\n",
       "<style scoped>\n",
       "    .dataframe tbody tr th:only-of-type {\n",
       "        vertical-align: middle;\n",
       "    }\n",
       "\n",
       "    .dataframe tbody tr th {\n",
       "        vertical-align: top;\n",
       "    }\n",
       "\n",
       "    .dataframe thead th {\n",
       "        text-align: right;\n",
       "    }\n",
       "</style>\n",
       "<table border=\"1\" class=\"dataframe\">\n",
       "  <thead>\n",
       "    <tr style=\"text-align: right;\">\n",
       "      <th></th>\n",
       "      <th>Accuracy</th>\n",
       "      <th>Balanced Accuracy</th>\n",
       "      <th>ROC AUC</th>\n",
       "      <th>F1 Score</th>\n",
       "      <th>matthews_corrcoef</th>\n",
       "      <th>Time Taken</th>\n",
       "    </tr>\n",
       "    <tr>\n",
       "      <th>Model</th>\n",
       "      <th></th>\n",
       "      <th></th>\n",
       "      <th></th>\n",
       "      <th></th>\n",
       "      <th></th>\n",
       "      <th></th>\n",
       "    </tr>\n",
       "  </thead>\n",
       "  <tbody>\n",
       "    <tr>\n",
       "      <th>LGBMClassifier</th>\n",
       "      <td>0.95</td>\n",
       "      <td>0.93</td>\n",
       "      <td>0.93</td>\n",
       "      <td>0.95</td>\n",
       "      <td>0.88</td>\n",
       "      <td>0.33</td>\n",
       "    </tr>\n",
       "    <tr>\n",
       "      <th>RandomForestClassifier</th>\n",
       "      <td>0.95</td>\n",
       "      <td>0.93</td>\n",
       "      <td>0.93</td>\n",
       "      <td>0.95</td>\n",
       "      <td>0.87</td>\n",
       "      <td>3.95</td>\n",
       "    </tr>\n",
       "    <tr>\n",
       "      <th>ExtraTreesClassifier</th>\n",
       "      <td>0.95</td>\n",
       "      <td>0.93</td>\n",
       "      <td>0.93</td>\n",
       "      <td>0.95</td>\n",
       "      <td>0.87</td>\n",
       "      <td>0.96</td>\n",
       "    </tr>\n",
       "    <tr>\n",
       "      <th>XGBClassifier</th>\n",
       "      <td>0.95</td>\n",
       "      <td>0.93</td>\n",
       "      <td>0.93</td>\n",
       "      <td>0.95</td>\n",
       "      <td>0.86</td>\n",
       "      <td>0.45</td>\n",
       "    </tr>\n",
       "    <tr>\n",
       "      <th>SVC</th>\n",
       "      <td>0.94</td>\n",
       "      <td>0.92</td>\n",
       "      <td>0.92</td>\n",
       "      <td>0.94</td>\n",
       "      <td>0.85</td>\n",
       "      <td>1.70</td>\n",
       "    </tr>\n",
       "    <tr>\n",
       "      <th>BaggingClassifier</th>\n",
       "      <td>0.95</td>\n",
       "      <td>0.92</td>\n",
       "      <td>0.92</td>\n",
       "      <td>0.94</td>\n",
       "      <td>0.85</td>\n",
       "      <td>1.87</td>\n",
       "    </tr>\n",
       "    <tr>\n",
       "      <th>LabelSpreading</th>\n",
       "      <td>0.94</td>\n",
       "      <td>0.90</td>\n",
       "      <td>0.90</td>\n",
       "      <td>0.94</td>\n",
       "      <td>0.84</td>\n",
       "      <td>8.72</td>\n",
       "    </tr>\n",
       "    <tr>\n",
       "      <th>LabelPropagation</th>\n",
       "      <td>0.94</td>\n",
       "      <td>0.90</td>\n",
       "      <td>0.90</td>\n",
       "      <td>0.94</td>\n",
       "      <td>0.83</td>\n",
       "      <td>5.13</td>\n",
       "    </tr>\n",
       "    <tr>\n",
       "      <th>AdaBoostClassifier</th>\n",
       "      <td>0.93</td>\n",
       "      <td>0.90</td>\n",
       "      <td>0.90</td>\n",
       "      <td>0.93</td>\n",
       "      <td>0.81</td>\n",
       "      <td>1.07</td>\n",
       "    </tr>\n",
       "    <tr>\n",
       "      <th>DecisionTreeClassifier</th>\n",
       "      <td>0.92</td>\n",
       "      <td>0.90</td>\n",
       "      <td>0.90</td>\n",
       "      <td>0.92</td>\n",
       "      <td>0.79</td>\n",
       "      <td>0.39</td>\n",
       "    </tr>\n",
       "    <tr>\n",
       "      <th>QuadraticDiscriminantAnalysis</th>\n",
       "      <td>0.91</td>\n",
       "      <td>0.89</td>\n",
       "      <td>0.89</td>\n",
       "      <td>0.91</td>\n",
       "      <td>0.76</td>\n",
       "      <td>0.05</td>\n",
       "    </tr>\n",
       "    <tr>\n",
       "      <th>KNeighborsClassifier</th>\n",
       "      <td>0.93</td>\n",
       "      <td>0.89</td>\n",
       "      <td>0.89</td>\n",
       "      <td>0.93</td>\n",
       "      <td>0.82</td>\n",
       "      <td>0.28</td>\n",
       "    </tr>\n",
       "    <tr>\n",
       "      <th>NuSVC</th>\n",
       "      <td>0.91</td>\n",
       "      <td>0.88</td>\n",
       "      <td>0.88</td>\n",
       "      <td>0.91</td>\n",
       "      <td>0.77</td>\n",
       "      <td>5.32</td>\n",
       "    </tr>\n",
       "    <tr>\n",
       "      <th>ExtraTreeClassifier</th>\n",
       "      <td>0.91</td>\n",
       "      <td>0.88</td>\n",
       "      <td>0.88</td>\n",
       "      <td>0.91</td>\n",
       "      <td>0.76</td>\n",
       "      <td>0.03</td>\n",
       "    </tr>\n",
       "    <tr>\n",
       "      <th>GaussianNB</th>\n",
       "      <td>0.90</td>\n",
       "      <td>0.88</td>\n",
       "      <td>0.88</td>\n",
       "      <td>0.90</td>\n",
       "      <td>0.74</td>\n",
       "      <td>0.03</td>\n",
       "    </tr>\n",
       "    <tr>\n",
       "      <th>LogisticRegression</th>\n",
       "      <td>0.91</td>\n",
       "      <td>0.85</td>\n",
       "      <td>0.85</td>\n",
       "      <td>0.90</td>\n",
       "      <td>0.74</td>\n",
       "      <td>0.09</td>\n",
       "    </tr>\n",
       "    <tr>\n",
       "      <th>CalibratedClassifierCV</th>\n",
       "      <td>0.91</td>\n",
       "      <td>0.85</td>\n",
       "      <td>0.85</td>\n",
       "      <td>0.90</td>\n",
       "      <td>0.74</td>\n",
       "      <td>4.62</td>\n",
       "    </tr>\n",
       "    <tr>\n",
       "      <th>NearestCentroid</th>\n",
       "      <td>0.88</td>\n",
       "      <td>0.85</td>\n",
       "      <td>0.85</td>\n",
       "      <td>0.88</td>\n",
       "      <td>0.69</td>\n",
       "      <td>0.04</td>\n",
       "    </tr>\n",
       "    <tr>\n",
       "      <th>LinearSVC</th>\n",
       "      <td>0.90</td>\n",
       "      <td>0.85</td>\n",
       "      <td>0.85</td>\n",
       "      <td>0.90</td>\n",
       "      <td>0.74</td>\n",
       "      <td>1.37</td>\n",
       "    </tr>\n",
       "    <tr>\n",
       "      <th>SGDClassifier</th>\n",
       "      <td>0.89</td>\n",
       "      <td>0.83</td>\n",
       "      <td>0.83</td>\n",
       "      <td>0.89</td>\n",
       "      <td>0.71</td>\n",
       "      <td>0.16</td>\n",
       "    </tr>\n",
       "    <tr>\n",
       "      <th>LinearDiscriminantAnalysis</th>\n",
       "      <td>0.90</td>\n",
       "      <td>0.83</td>\n",
       "      <td>0.83</td>\n",
       "      <td>0.89</td>\n",
       "      <td>0.72</td>\n",
       "      <td>0.12</td>\n",
       "    </tr>\n",
       "    <tr>\n",
       "      <th>RidgeClassifier</th>\n",
       "      <td>0.90</td>\n",
       "      <td>0.83</td>\n",
       "      <td>0.83</td>\n",
       "      <td>0.89</td>\n",
       "      <td>0.72</td>\n",
       "      <td>0.04</td>\n",
       "    </tr>\n",
       "    <tr>\n",
       "      <th>RidgeClassifierCV</th>\n",
       "      <td>0.90</td>\n",
       "      <td>0.83</td>\n",
       "      <td>0.83</td>\n",
       "      <td>0.89</td>\n",
       "      <td>0.72</td>\n",
       "      <td>0.07</td>\n",
       "    </tr>\n",
       "    <tr>\n",
       "      <th>Perceptron</th>\n",
       "      <td>0.87</td>\n",
       "      <td>0.79</td>\n",
       "      <td>0.79</td>\n",
       "      <td>0.86</td>\n",
       "      <td>0.63</td>\n",
       "      <td>0.05</td>\n",
       "    </tr>\n",
       "    <tr>\n",
       "      <th>PassiveAggressiveClassifier</th>\n",
       "      <td>0.87</td>\n",
       "      <td>0.79</td>\n",
       "      <td>0.79</td>\n",
       "      <td>0.86</td>\n",
       "      <td>0.63</td>\n",
       "      <td>0.04</td>\n",
       "    </tr>\n",
       "    <tr>\n",
       "      <th>BernoulliNB</th>\n",
       "      <td>0.85</td>\n",
       "      <td>0.79</td>\n",
       "      <td>0.79</td>\n",
       "      <td>0.85</td>\n",
       "      <td>0.60</td>\n",
       "      <td>0.04</td>\n",
       "    </tr>\n",
       "    <tr>\n",
       "      <th>DummyClassifier</th>\n",
       "      <td>0.75</td>\n",
       "      <td>0.50</td>\n",
       "      <td>0.50</td>\n",
       "      <td>0.64</td>\n",
       "      <td>0.00</td>\n",
       "      <td>0.02</td>\n",
       "    </tr>\n",
       "  </tbody>\n",
       "</table>\n",
       "</div>"
      ],
      "text/plain": [
       "                               Accuracy  Balanced Accuracy  ROC AUC  F1 Score  \\\n",
       "Model                                                                           \n",
       "LGBMClassifier                     0.95               0.93     0.93      0.95   \n",
       "RandomForestClassifier             0.95               0.93     0.93      0.95   \n",
       "ExtraTreesClassifier               0.95               0.93     0.93      0.95   \n",
       "XGBClassifier                      0.95               0.93     0.93      0.95   \n",
       "SVC                                0.94               0.92     0.92      0.94   \n",
       "BaggingClassifier                  0.95               0.92     0.92      0.94   \n",
       "LabelSpreading                     0.94               0.90     0.90      0.94   \n",
       "LabelPropagation                   0.94               0.90     0.90      0.94   \n",
       "AdaBoostClassifier                 0.93               0.90     0.90      0.93   \n",
       "DecisionTreeClassifier             0.92               0.90     0.90      0.92   \n",
       "QuadraticDiscriminantAnalysis      0.91               0.89     0.89      0.91   \n",
       "KNeighborsClassifier               0.93               0.89     0.89      0.93   \n",
       "NuSVC                              0.91               0.88     0.88      0.91   \n",
       "ExtraTreeClassifier                0.91               0.88     0.88      0.91   \n",
       "GaussianNB                         0.90               0.88     0.88      0.90   \n",
       "LogisticRegression                 0.91               0.85     0.85      0.90   \n",
       "CalibratedClassifierCV             0.91               0.85     0.85      0.90   \n",
       "NearestCentroid                    0.88               0.85     0.85      0.88   \n",
       "LinearSVC                          0.90               0.85     0.85      0.90   \n",
       "SGDClassifier                      0.89               0.83     0.83      0.89   \n",
       "LinearDiscriminantAnalysis         0.90               0.83     0.83      0.89   \n",
       "RidgeClassifier                    0.90               0.83     0.83      0.89   \n",
       "RidgeClassifierCV                  0.90               0.83     0.83      0.89   \n",
       "Perceptron                         0.87               0.79     0.79      0.86   \n",
       "PassiveAggressiveClassifier        0.87               0.79     0.79      0.86   \n",
       "BernoulliNB                        0.85               0.79     0.79      0.85   \n",
       "DummyClassifier                    0.75               0.50     0.50      0.64   \n",
       "\n",
       "                               matthews_corrcoef  Time Taken  \n",
       "Model                                                         \n",
       "LGBMClassifier                              0.88        0.33  \n",
       "RandomForestClassifier                      0.87        3.95  \n",
       "ExtraTreesClassifier                        0.87        0.96  \n",
       "XGBClassifier                               0.86        0.45  \n",
       "SVC                                         0.85        1.70  \n",
       "BaggingClassifier                           0.85        1.87  \n",
       "LabelSpreading                              0.84        8.72  \n",
       "LabelPropagation                            0.83        5.13  \n",
       "AdaBoostClassifier                          0.81        1.07  \n",
       "DecisionTreeClassifier                      0.79        0.39  \n",
       "QuadraticDiscriminantAnalysis               0.76        0.05  \n",
       "KNeighborsClassifier                        0.82        0.28  \n",
       "NuSVC                                       0.77        5.32  \n",
       "ExtraTreeClassifier                         0.76        0.03  \n",
       "GaussianNB                                  0.74        0.03  \n",
       "LogisticRegression                          0.74        0.09  \n",
       "CalibratedClassifierCV                      0.74        4.62  \n",
       "NearestCentroid                             0.69        0.04  \n",
       "LinearSVC                                   0.74        1.37  \n",
       "SGDClassifier                               0.71        0.16  \n",
       "LinearDiscriminantAnalysis                  0.72        0.12  \n",
       "RidgeClassifier                             0.72        0.04  \n",
       "RidgeClassifierCV                           0.72        0.07  \n",
       "Perceptron                                  0.63        0.05  \n",
       "PassiveAggressiveClassifier                 0.63        0.04  \n",
       "BernoulliNB                                 0.60        0.04  \n",
       "DummyClassifier                             0.00        0.02  "
      ]
     },
     "execution_count": 28,
     "metadata": {},
     "output_type": "execute_result"
    }
   ],
   "source": [
    "models_test"
   ]
  },
  {
   "cell_type": "markdown",
   "id": "46fb084e-c27a-458d-96b1-ef8116a81813",
   "metadata": {},
   "source": [
    "#### **4.3 Random Forest**"
   ]
  },
  {
   "cell_type": "code",
   "execution_count": 29,
   "id": "19c08f7d-2485-47a9-ba82-9855cc7339d8",
   "metadata": {},
   "outputs": [
    {
     "data": {
      "text/html": [
       "<style>#sk-container-id-1 {color: black;background-color: white;}#sk-container-id-1 pre{padding: 0;}#sk-container-id-1 div.sk-toggleable {background-color: white;}#sk-container-id-1 label.sk-toggleable__label {cursor: pointer;display: block;width: 100%;margin-bottom: 0;padding: 0.3em;box-sizing: border-box;text-align: center;}#sk-container-id-1 label.sk-toggleable__label-arrow:before {content: \"▸\";float: left;margin-right: 0.25em;color: #696969;}#sk-container-id-1 label.sk-toggleable__label-arrow:hover:before {color: black;}#sk-container-id-1 div.sk-estimator:hover label.sk-toggleable__label-arrow:before {color: black;}#sk-container-id-1 div.sk-toggleable__content {max-height: 0;max-width: 0;overflow: hidden;text-align: left;background-color: #f0f8ff;}#sk-container-id-1 div.sk-toggleable__content pre {margin: 0.2em;color: black;border-radius: 0.25em;background-color: #f0f8ff;}#sk-container-id-1 input.sk-toggleable__control:checked~div.sk-toggleable__content {max-height: 200px;max-width: 100%;overflow: auto;}#sk-container-id-1 input.sk-toggleable__control:checked~label.sk-toggleable__label-arrow:before {content: \"▾\";}#sk-container-id-1 div.sk-estimator input.sk-toggleable__control:checked~label.sk-toggleable__label {background-color: #d4ebff;}#sk-container-id-1 div.sk-label input.sk-toggleable__control:checked~label.sk-toggleable__label {background-color: #d4ebff;}#sk-container-id-1 input.sk-hidden--visually {border: 0;clip: rect(1px 1px 1px 1px);clip: rect(1px, 1px, 1px, 1px);height: 1px;margin: -1px;overflow: hidden;padding: 0;position: absolute;width: 1px;}#sk-container-id-1 div.sk-estimator {font-family: monospace;background-color: #f0f8ff;border: 1px dotted black;border-radius: 0.25em;box-sizing: border-box;margin-bottom: 0.5em;}#sk-container-id-1 div.sk-estimator:hover {background-color: #d4ebff;}#sk-container-id-1 div.sk-parallel-item::after {content: \"\";width: 100%;border-bottom: 1px solid gray;flex-grow: 1;}#sk-container-id-1 div.sk-label:hover label.sk-toggleable__label {background-color: #d4ebff;}#sk-container-id-1 div.sk-serial::before {content: \"\";position: absolute;border-left: 1px solid gray;box-sizing: border-box;top: 0;bottom: 0;left: 50%;z-index: 0;}#sk-container-id-1 div.sk-serial {display: flex;flex-direction: column;align-items: center;background-color: white;padding-right: 0.2em;padding-left: 0.2em;position: relative;}#sk-container-id-1 div.sk-item {position: relative;z-index: 1;}#sk-container-id-1 div.sk-parallel {display: flex;align-items: stretch;justify-content: center;background-color: white;position: relative;}#sk-container-id-1 div.sk-item::before, #sk-container-id-1 div.sk-parallel-item::before {content: \"\";position: absolute;border-left: 1px solid gray;box-sizing: border-box;top: 0;bottom: 0;left: 50%;z-index: -1;}#sk-container-id-1 div.sk-parallel-item {display: flex;flex-direction: column;z-index: 1;position: relative;background-color: white;}#sk-container-id-1 div.sk-parallel-item:first-child::after {align-self: flex-end;width: 50%;}#sk-container-id-1 div.sk-parallel-item:last-child::after {align-self: flex-start;width: 50%;}#sk-container-id-1 div.sk-parallel-item:only-child::after {width: 0;}#sk-container-id-1 div.sk-dashed-wrapped {border: 1px dashed gray;margin: 0 0.4em 0.5em 0.4em;box-sizing: border-box;padding-bottom: 0.4em;background-color: white;}#sk-container-id-1 div.sk-label label {font-family: monospace;font-weight: bold;display: inline-block;line-height: 1.2em;}#sk-container-id-1 div.sk-label-container {text-align: center;}#sk-container-id-1 div.sk-container {/* jupyter's `normalize.less` sets `[hidden] { display: none; }` but bootstrap.min.css set `[hidden] { display: none !important; }` so we also need the `!important` here to be able to override the default hidden behavior on the sphinx rendered scikit-learn.org. See: https://github.com/scikit-learn/scikit-learn/issues/21755 */display: inline-block !important;position: relative;}#sk-container-id-1 div.sk-text-repr-fallback {display: none;}</style><div id=\"sk-container-id-1\" class=\"sk-top-container\"><div class=\"sk-text-repr-fallback\"><pre>RandomForestClassifier(n_estimators=500, random_state=0)</pre><b>In a Jupyter environment, please rerun this cell to show the HTML representation or trust the notebook. <br />On GitHub, the HTML representation is unable to render, please try loading this page with nbviewer.org.</b></div><div class=\"sk-container\" hidden><div class=\"sk-item\"><div class=\"sk-estimator sk-toggleable\"><input class=\"sk-toggleable__control sk-hidden--visually\" id=\"sk-estimator-id-1\" type=\"checkbox\" checked><label for=\"sk-estimator-id-1\" class=\"sk-toggleable__label sk-toggleable__label-arrow\">RandomForestClassifier</label><div class=\"sk-toggleable__content\"><pre>RandomForestClassifier(n_estimators=500, random_state=0)</pre></div></div></div></div></div>"
      ],
      "text/plain": [
       "RandomForestClassifier(n_estimators=500, random_state=0)"
      ]
     },
     "execution_count": 29,
     "metadata": {},
     "output_type": "execute_result"
    }
   ],
   "source": [
    "rf_classifier = RandomForestClassifier(random_state=0, n_estimators=500)\n",
    "rf_classifier.fit(X_train, y_train)"
   ]
  },
  {
   "cell_type": "code",
   "execution_count": 30,
   "id": "258ef966-5b95-44d0-8d67-3fbdce8c673b",
   "metadata": {},
   "outputs": [
    {
     "data": {
      "text/plain": [
       "1.0"
      ]
     },
     "execution_count": 30,
     "metadata": {},
     "output_type": "execute_result"
    }
   ],
   "source": [
    "rf_classifier.score(X_train, y_train)"
   ]
  },
  {
   "cell_type": "code",
   "execution_count": 31,
   "id": "af0ffc6b-2355-475a-b206-3f56b7817a82",
   "metadata": {},
   "outputs": [
    {
     "data": {
      "text/plain": [
       "0.9497891912610196"
      ]
     },
     "execution_count": 31,
     "metadata": {},
     "output_type": "execute_result"
    }
   ],
   "source": [
    "rf_classifier.score(X_test, y_test)"
   ]
  },
  {
   "cell_type": "code",
   "execution_count": 32,
   "id": "6da0d324-0548-4c6a-a5bf-4043268c0f0b",
   "metadata": {},
   "outputs": [],
   "source": [
    "rf_y_pred_train = rf_classifier.predict(X_train)\n",
    "rf_y_pred_test = rf_classifier.predict(X_test)"
   ]
  },
  {
   "cell_type": "code",
   "execution_count": 33,
   "id": "f29b2447-a41e-415b-94e4-e9740431a552",
   "metadata": {},
   "outputs": [
    {
     "data": {
      "text/plain": [
       "0.865887793848978"
      ]
     },
     "execution_count": 33,
     "metadata": {},
     "output_type": "execute_result"
    }
   ],
   "source": [
    "# Matthews correlation coefficient is a measure of the quality of binary classifications\n",
    "matthews_corrcoef(y_test, rf_y_pred_test)"
   ]
  },
  {
   "cell_type": "code",
   "execution_count": 34,
   "id": "74f722db-16f1-4c62-8c97-4c3021aa11cb",
   "metadata": {},
   "outputs": [
    {
     "name": "stdout",
     "output_type": "stream",
     "text": [
      "[[7822    0]\n",
      " [   0 2614]]\n"
     ]
    }
   ],
   "source": [
    "confusion_matrix_train = confusion_matrix(y_train, rf_y_pred_train)\n",
    "print(confusion_matrix_train)"
   ]
  },
  {
   "cell_type": "code",
   "execution_count": 35,
   "id": "3deaabf4-4f2d-446a-b9af-1f1ee1cf2977",
   "metadata": {},
   "outputs": [
    {
     "data": {
      "image/png": "[encoded data removed]",
      "text/plain": [
       "<Figure size 640x480 with 2 Axes>"
      ]
     },
     "metadata": {},
     "output_type": "display_data"
    }
   ],
   "source": [
    "_ = ConfusionMatrixDisplay(confusion_matrix_train).plot()"
   ]
  },
  {
   "cell_type": "code",
   "execution_count": 36,
   "id": "bfadd646-0d97-488e-8e3d-a6e241cd2123",
   "metadata": {},
   "outputs": [
    {
     "name": "stdout",
     "output_type": "stream",
     "text": [
      "[[1893   62]\n",
      " [  69  585]]\n"
     ]
    }
   ],
   "source": [
    "confusion_matrix_test = confusion_matrix(y_test, rf_y_pred_test)\n",
    "print(confusion_matrix_test)"
   ]
  },
  {
   "cell_type": "code",
   "execution_count": 37,
   "id": "f6f00d17-418b-4ad7-9718-5e5d27a747c4",
   "metadata": {},
   "outputs": [
    {
     "data": {
      "image/png": "[encoded data removed]",
      "text/plain": [
       "<Figure size 640x480 with 2 Axes>"
      ]
     },
     "metadata": {},
     "output_type": "display_data"
    }
   ],
   "source": [
    "_ = ConfusionMatrixDisplay(confusion_matrix_test).plot()"
   ]
  },
  {
   "cell_type": "code",
   "execution_count": 38,
   "id": "d62f5048-e6ec-45f1-bd9f-d83417d0a361",
   "metadata": {},
   "outputs": [
    {
     "name": "stdout",
     "output_type": "stream",
     "text": [
      "              precision    recall  f1-score   support\n",
      "\n",
      "    positive       1.00      1.00      1.00      7822\n",
      "    negative       1.00      1.00      1.00      2614\n",
      "\n",
      "    accuracy                           1.00     10436\n",
      "   macro avg       1.00      1.00      1.00     10436\n",
      "weighted avg       1.00      1.00      1.00     10436\n",
      "\n"
     ]
    }
   ],
   "source": [
    "model_report_train = classification_report(y_train, rf_y_pred_train, \n",
    "                                           target_names=[\"positive\", \"negative\"])\n",
    "print(model_report_train)"
   ]
  },
  {
   "cell_type": "code",
   "execution_count": 39,
   "id": "1b832c0b-93f8-426a-877c-0080ad42ad96",
   "metadata": {},
   "outputs": [
    {
     "name": "stdout",
     "output_type": "stream",
     "text": [
      "              precision    recall  f1-score   support\n",
      "\n",
      "    positive       0.96      0.97      0.97      1955\n",
      "    negative       0.90      0.89      0.90       654\n",
      "\n",
      "    accuracy                           0.95      2609\n",
      "   macro avg       0.93      0.93      0.93      2609\n",
      "weighted avg       0.95      0.95      0.95      2609\n",
      "\n"
     ]
    }
   ],
   "source": [
    "model_report_test = classification_report(y_test, rf_y_pred_test, \n",
    "                                          target_names=[\"positive\", \"negative\"])\n",
    "print(model_report_test)"
   ]
  },
  {
   "cell_type": "markdown",
   "id": "cfedc583-bbb6-456f-87dd-3d002216bba3",
   "metadata": {},
   "source": [
    "#### **Presicion-Recall Curve**"
   ]
  },
  {
   "cell_type": "code",
   "execution_count": 40,
   "id": "bcf0d52d-cbd0-43fc-8981-68c446ceea43",
   "metadata": {},
   "outputs": [
    {
     "data": {
      "text/plain": [
       "<sklearn.metrics._plot.precision_recall_curve.PrecisionRecallDisplay at 0x7fc597a14910>"
      ]
     },
     "execution_count": 40,
     "metadata": {},
     "output_type": "execute_result"
    },
    {
     "data": {
      "image/png": "[encoded data removed]",
      "text/plain": [
       "<Figure size 640x480 with 1 Axes>"
      ]
     },
     "metadata": {},
     "output_type": "display_data"
    }
   ],
   "source": [
    "precision, recall, _ = precision_recall_curve(y_train, rf_y_pred_train)\n",
    "disp = PrecisionRecallDisplay(precision=precision, recall=recall)\n",
    "disp.plot()"
   ]
  },
  {
   "cell_type": "code",
   "execution_count": 41,
   "id": "47d8ce85-94ce-4361-873b-6bab09b30537",
   "metadata": {},
   "outputs": [
    {
     "data": {
      "text/plain": [
       "<sklearn.metrics._plot.precision_recall_curve.PrecisionRecallDisplay at 0x7fc597994580>"
      ]
     },
     "execution_count": 41,
     "metadata": {},
     "output_type": "execute_result"
    },
    {
     "data": {
      "image/png": "[encoded data removed]",
      "text/plain": [
       "<Figure size 640x480 with 1 Axes>"
      ]
     },
     "metadata": {},
     "output_type": "display_data"
    }
   ],
   "source": [
    "precision, recall, _ = precision_recall_curve(y_test, rf_y_pred_test)\n",
    "disp = PrecisionRecallDisplay(precision=precision, recall=recall)\n",
    "disp.plot()"
   ]
  },
  {
   "cell_type": "code",
   "execution_count": null,
   "id": "b78aeec6-4d44-4914-93ec-08588770c79a",
   "metadata": {},
   "outputs": [],
   "source": []
  }
 ],
 "metadata": {
  "kernelspec": {
   "display_name": "Python 3 (ipykernel)",
   "language": "python",
   "name": "python3"
  },
  "language_info": {
   "codemirror_mode": {
    "name": "ipython",
    "version": 3
   },
   "file_extension": ".py",
   "mimetype": "text/x-python",
   "name": "python",
   "nbconvert_exporter": "python",
   "pygments_lexer": "ipython3",
   "version": "3.8.10"
  }
 },
 "nbformat": 4,
 "nbformat_minor": 5
}
